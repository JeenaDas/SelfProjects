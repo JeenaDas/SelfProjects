{
 "cells": [
  {
   "cell_type": "code",
   "execution_count": 4,
   "metadata": {
    "extensions": {
     "jupyter_dashboards": {
      "version": 1,
      "views": {
       "grid_default": {},
       "report_default": {
        "hidden": true
       }
      }
     }
    }
   },
   "outputs": [],
   "source": [
    "from arcgis.gis import GIS\n",
    "from arcgis.geocoding import geocode\n",
    "from arcgis.raster.functions import *\n",
    "from arcgis import geometry\n",
    "import traceback\n",
    "import pandas as pd\n",
    "from IPython.display import HTML\n",
    "from arcgis.network import ClosestFacilityLayer\n",
    "from arcgis import geocoding\n",
    "from arcgis.features import Feature, FeatureSet\n",
    "from IPython.display import clear_output\n",
    "from ipywidgets import  HBox"
   ]
  },
  {
   "cell_type": "code",
   "execution_count": 2,
   "metadata": {
    "collapsed": true,
    "extensions": {
     "jupyter_dashboards": {
      "version": 1,
      "views": {
       "grid_default": {},
       "report_default": {
        "hidden": true
       }
      }
     }
    }
   },
   "outputs": [
    {
     "name": "stdout",
     "output_type": "stream",
     "text": [
      "Collecting package metadata (current_repodata.json): done\n",
      "Solving environment: done\n",
      "\n",
      "\n",
      "==> WARNING: A newer version of conda exists. <==\n",
      "  current version: 4.8.3\n",
      "  latest version: 4.10.1\n",
      "\n",
      "Please update conda by running\n",
      "\n",
      "    $ conda update -n base -c defaults conda\n",
      "\n",
      "\n",
      "\n",
      "# All requested packages already installed.\n",
      "\n",
      "\n",
      "Note: you may need to restart the kernel to use updated packages.\n"
     ]
    }
   ],
   "source": [
    "conda install jupyter_dashboards -c conda-forge -y"
   ]
  },
  {
   "cell_type": "markdown",
   "metadata": {
    "extensions": {
     "jupyter_dashboards": {
      "version": 1,
      "views": {
       "grid_default": {},
       "report_default": {
        "hidden": false
       }
      }
     }
    }
   },
   "source": [
    "## Map"
   ]
  },
  {
   "cell_type": "code",
   "execution_count": 7,
   "metadata": {
    "extensions": {
     "jupyter_dashboards": {
      "version": 1,
      "views": {
       "grid_default": {},
       "report_default": {
        "hidden": false
       }
      }
     }
    }
   },
   "outputs": [
    {
     "data": {
      "application/vnd.jupyter.widget-view+json": {
       "model_id": "eba610c5e3974c6798c6ae8436d7adbd",
       "version_major": 2,
       "version_minor": 0
      },
      "text/plain": [
       "MapView(layout=Layout(height='400px', width='100%'))"
      ]
     },
     "metadata": {},
     "output_type": "display_data"
    },
    {
     "data": {
      "text/html": [
       "<div class=\"map-static-img-preview-4dfcd99e-2abe-449c-add7-945cf57a4d78\"><img src=\"\"></img></div>"
      ],
      "text/plain": [
       "<IPython.core.display.HTML object>"
      ]
     },
     "metadata": {},
     "output_type": "display_data"
    },
    {
     "data": {
      "text/html": [
       "<div class=\"map-html-embed-preview-4dfcd99e-2abe-449c-add7-945cf57a4d78\"></div>"
      ],
      "text/plain": [
       "<IPython.core.display.HTML object>"
      ]
     },
     "metadata": {},
     "output_type": "display_data"
    },
    {
     "name": "stdout",
     "output_type": "stream",
     "text": [
      "Bhoiwada Smashanbhumi Marg, Parel, Mumbai, Maharashtra, 400012\n"
     ]
    }
   ],
   "source": [
    "# connect as an anonymous user\n",
    "gis = GIS()\n",
    "\n",
    "# search for the map\n",
    "our_map = gis.content.search(\"open street map\", 'Imagery Layer', outside_org=True)[0]\n",
    "my_map = our_map.layers[0]\n",
    "\n",
    "\n",
    "#displaying the map\n",
    "m = gis.map(location.value)\n",
    "m.add_layer(my_map)\n",
    "display(m)"
   ]
  },
  {
   "cell_type": "markdown",
   "metadata": {
    "extensions": {
     "jupyter_dashboards": {
      "version": 1,
      "views": {
       "grid_default": {},
       "report_default": {
        "hidden": false
       }
      }
     }
    }
   },
   "source": [
    "## Concern Area"
   ]
  },
  {
   "cell_type": "code",
   "execution_count": 6,
   "metadata": {
    "extensions": {
     "jupyter_dashboards": {
      "version": 1,
      "views": {
       "grid_default": {},
       "report_default": {
        "hidden": false
       }
      }
     }
    }
   },
   "outputs": [
    {
     "data": {
      "application/vnd.jupyter.widget-view+json": {
       "model_id": "d3265b1e9d8041a394ec2b1c4e0e7a4a",
       "version_major": 2,
       "version_minor": 0
      },
      "text/plain": [
       "HBox(children=(Text(value='', description='Location:', placeholder='enter place'), Button(description='Go', st…"
      ]
     },
     "metadata": {},
     "output_type": "display_data"
    }
   ],
   "source": [
    "import ipywidgets as widgets\n",
    "\n",
    "# text box widget\n",
    "location = widgets.Text(value='', placeholder='enter place',\n",
    "                        description='Location:', disabled=False)\n",
    "\n",
    "# command button widget\n",
    "gobtn = widgets.Button(description='Go', disabled=False,\n",
    "                       button_style='', tooltip='Go', icon='')\n",
    "\n",
    "\n",
    "\n",
    "Updated_AllhospitalNameList = []\n",
    "# define what happens whent the command button is clicked\n",
    "def on_gobutton_clicked(b):\n",
    "    \n",
    "    # Connect to your GIS\n",
    "    gis = GIS(\"home\")\n",
    "\n",
    "    try:\n",
    "        analysis_url = gis.properties.helperServices.closestFacility.url\n",
    "#         print(\"Closest Facility URL successfully retrieved\")\n",
    "    except Exception as e:\n",
    "        traceback.print_exc()\n",
    "        raise Exception(f\"Network Analysis is not properly configured \"\\\n",
    "                        f\"on your Organization: {e}\")\n",
    "\n",
    "\n",
    "    cf_layer = ClosestFacilityLayer(analysis_url, gis = gis)\n",
    "    \n",
    "    # geocode the place name and set that as the map's extent\n",
    "    area = geocode(location.value)[0]\n",
    "    m.extent = area['extent']\n",
    "    \n",
    "    #for updating hospital list\n",
    "    csv_file = '/arcgis/home/HospitalData.csv'\n",
    "    AllDataHospital = pd.read_csv(csv_file,encoding='latin1')\n",
    "\n",
    "    Thershold = 5\n",
    "    query = location.value\n",
    "\n",
    "    city  = query.split(',')[0].rstrip('\\t').lstrip('\\t')\n",
    "    state = query.split(',')[1].rstrip('\\t').lstrip('\\t')\n",
    "\n",
    "    AllhospitalNameList = []\n",
    "    Filtered_Hospital_data = AllDataHospital.groupby('State_Name').get_group(state).groupby('District_Name').get_group(city)\n",
    "    for index, entry in Filtered_Hospital_data.iterrows():\n",
    "        name = str(entry['Health Facility Name'] ).strip('\\n') + ','  \n",
    "        address = str(entry['Address'] ).strip('\\n') + ','  \n",
    "        street = str(entry['street'] ).strip('\\n')  + ','  \n",
    "        locality = str(entry['locality'] ).strip('\\n') + ','  \n",
    "        pincode = str(entry['pincode'] ).strip('\\n')+ ','  \n",
    "        if locality == 'nan,': locality = \" \"\n",
    "        hospitalAddress = name + address + street + locality + pincode\n",
    "        AllhospitalNameList.append(hospitalAddress)\n",
    "        \n",
    "    \n",
    "    Updated_AllhospitalNameList.append(AllhospitalNameList)\n",
    "    \n",
    "gobtn.on_click(on_gobutton_clicked)\n",
    "\n",
    "location_items = [location, gobtn]\n",
    "widgets.HBox(location_items)"
   ]
  },
  {
   "cell_type": "code",
   "execution_count": 8,
   "metadata": {
    "extensions": {
     "jupyter_dashboards": {
      "version": 1,
      "views": {
       "grid_default": {},
       "report_default": {
        "hidden": false
       }
      }
     }
    }
   },
   "outputs": [],
   "source": [
    "# Connect to your GIS\n",
    "gis = GIS(\"home\")\n",
    "\n",
    "try:\n",
    "    analysis_url = gis.properties.helperServices.closestFacility.url\n",
    "#     print(\"Closest Facility URL successfully retrieved\")\n",
    "except Exception as e:\n",
    "    traceback.print_exc()\n",
    "    raise Exception(f\"Network Analysis is not properly configured \"\\\n",
    "                    f\"on your Organization: {e}\")\n",
    "    \n",
    "    \n",
    "cf_layer = ClosestFacilityLayer(analysis_url, gis = gis)"
   ]
  },
  {
   "cell_type": "code",
   "execution_count": 10,
   "metadata": {
    "extensions": {
     "jupyter_dashboards": {
      "version": 1,
      "views": {
       "grid_default": {},
       "report_default": {
        "hidden": true
       }
      }
     }
    }
   },
   "outputs": [],
   "source": [
    "hospitals_addresses = Updated_AllhospitalNameList[-1]\n",
    "\n",
    "\n",
    "hosp_feat_list = []\n",
    "\n",
    "for address in hospitals_addresses:\n",
    "    hit = geocoding.geocode(address)[0]\n",
    "    hosp_feat = Feature(geometry=hit['location'],\n",
    "                        attributes=hit['attributes'])\n",
    "    hosp_feat_list.append(hosp_feat)\n",
    "    \n",
    "    \n",
    "    \n",
    "hospitals_fset = FeatureSet(features=hosp_feat_list, \n",
    "                            geometry_type='esriGeometryPoint', \n",
    "                            spatial_reference={'latestWkid': 4326})"
   ]
  },
  {
   "cell_type": "code",
   "execution_count": 11,
   "metadata": {
    "extensions": {
     "jupyter_dashboards": {
      "version": 1,
      "views": {
       "grid_default": {},
       "report_default": {
        "hidden": false
       }
      }
     }
    },
    "scrolled": false
   },
   "outputs": [],
   "source": [
    "#save coordinates of a point on clicking on map and drawing it on map as red point using the function auto_on_getlocbtn_clicked(x,y)\n",
    "def find_addr(m, g):\n",
    "    try:\n",
    "        m.draw(g)\n",
    "        geocoded = geocoding.reverse_geocode(g)\n",
    "        auto_on_getlocbtn_clicked(geocoded['location']['x'], geocoded['location']['y'])\n",
    "        print(geocoded['address']['Match_addr'])\n",
    "    except:\n",
    "        print(\"Couldn't match address. Try another place...\")\n",
    "m.on_click(find_addr)"
   ]
  },
  {
   "cell_type": "markdown",
   "metadata": {
    "extensions": {
     "jupyter_dashboards": {
      "version": 1,
      "views": {
       "grid_default": {},
       "report_default": {
        "hidden": false
       }
      }
     }
    }
   },
   "source": [
    "## Hospital In Area"
   ]
  },
  {
   "cell_type": "code",
   "execution_count": 12,
   "metadata": {
    "extensions": {
     "jupyter_dashboards": {
      "version": 1,
      "views": {
       "grid_default": {},
       "report_default": {
        "hidden": false
       }
      }
     }
    }
   },
   "outputs": [
    {
     "data": {
      "application/vnd.jupyter.widget-view+json": {
       "model_id": "1eaf5b0a919f44eea0f7a5299b992d7f",
       "version_major": 2,
       "version_minor": 0
      },
      "text/plain": [
       "Button(description='Plot hospitals in area', style=ButtonStyle(), tooltip='click to plot nearby hospitals')"
      ]
     },
     "metadata": {},
     "output_type": "display_data"
    }
   ],
   "source": [
    "# create the action button\n",
    "drawbtn = widgets.Button(description='Plot hospitals in area', disabled=False,\n",
    "                         button_style='', tooltip='click to plot nearby hospitals',\n",
    "                         icon='')\n",
    "\n",
    "def on_drawbtn_clicked(b):\n",
    "    #hospital database\n",
    "\n",
    "#     hospitals_addresses = ['MPCT Hospital, C 7, Budhyadev Mandir Marg, Sector 4 , Mumbai - 400705', \n",
    "#                            'Sion - Trombay Road, Suman Nagar, Chembur East Chembur, Mumbai - 400071',\n",
    "#                            'A - 791, Bandra Reclamation, Bandra West, Bandra, Mumbai - 400050',\n",
    "#                            '15 G, Dr. Deshmukh Marg, Pedder Road, Opposite Sophia College Byculla, Mahalaxmi, Mumbai - 400026',\n",
    "#                            'A- 15/17, Maharshi Karve Marg, Girgaon South Mumbai, Mumbai - 400004'\n",
    "#                           ]\n",
    "\n",
    "    hospitals_addresses = Updated_AllhospitalNameList[-1]\n",
    "\n",
    "\n",
    "\n",
    "    hosp_feat_list = []\n",
    "\n",
    "    for address in hospitals_addresses:\n",
    "        hit = geocoding.geocode(address)[0]\n",
    "        hosp_feat = Feature(geometry=hit['location'],\n",
    "                            attributes=hit['attributes'])\n",
    "        hosp_feat_list.append(hosp_feat)\n",
    "\n",
    "\n",
    "\n",
    "    hospitals_fset = FeatureSet(features=hosp_feat_list, \n",
    "                                geometry_type='esriGeometryPoint', \n",
    "                                spatial_reference={'latestWkid': 4326})\n",
    "    \n",
    "    \n",
    "    m.draw(hospitals_fset,symbol={\"type\": \"esriSMS\",\"style\": \"esriSMSDiamond\",\"size\": 12, \"color\":[76,115,0,255]})\n",
    "    \n",
    "drawbtn.on_click(on_drawbtn_clicked)\n",
    "drawbtn"
   ]
  },
  {
   "cell_type": "code",
   "execution_count": 13,
   "metadata": {
    "extensions": {
     "jupyter_dashboards": {
      "version": 1,
      "views": {
       "grid_default": {},
       "report_default": {
        "hidden": true
       }
      }
     }
    }
   },
   "outputs": [],
   "source": [
    "incident_fset1 = []\n",
    "def auto_on_getlocbtn_clicked(x,y):\n",
    "    \n",
    "    \n",
    "    # Connect to your GIS\n",
    "    gis = GIS(\"home\")\n",
    "\n",
    "    try:\n",
    "        analysis_url = gis.properties.helperServices.closestFacility.url\n",
    "#         print(\"Closest Facility URL successfully retrieved\")\n",
    "    except Exception as e:\n",
    "        traceback.print_exc()\n",
    "        raise Exception(f\"Network Analysis is not properly configured \"\\\n",
    "                        f\"on your Organization: {e}\")\n",
    "\n",
    "\n",
    "    cf_layer = ClosestFacilityLayer(analysis_url, gis = gis)\n",
    "    \n",
    "    \n",
    "    \n",
    "    \n",
    "    reverse_geocode = geocoding.reverse_geocode(\n",
    "    {\"x\": x, \n",
    "     \"y\": y})\n",
    "\n",
    "    incident_feature = Feature(geometry=reverse_geocode['location'], \n",
    "                           attributes=reverse_geocode['address'])\n",
    "\n",
    "\n",
    "    incident_fset = FeatureSet([incident_feature],\n",
    "                           geometry_type='esriGeometryPoint',\n",
    "                           spatial_reference={'latestWkid': 4326})\n",
    "    \n",
    "    \n",
    "    m.draw(incident_fset,\n",
    "          symbol={\"type\": \"esriSMS\",\"style\": \"esriSMSDiamond\",\n",
    "                  \"size\": 12, \"color\":[255,0,0,255]})\n",
    "    incident_fset1.append(incident_fset)"
   ]
  },
  {
   "cell_type": "markdown",
   "metadata": {
    "extensions": {
     "jupyter_dashboards": {
      "version": 1,
      "views": {
       "grid_default": {},
       "report_default": {
        "hidden": false
       }
      }
     }
    }
   },
   "source": [
    "## Optimal routes from incident area "
   ]
  },
  {
   "cell_type": "code",
   "execution_count": 14,
   "metadata": {
    "extensions": {
     "jupyter_dashboards": {
      "version": 1,
      "views": {
       "grid_default": {},
       "report_default": {
        "hidden": false
       }
      }
     }
    }
   },
   "outputs": [
    {
     "data": {
      "application/vnd.jupyter.widget-view+json": {
       "model_id": "259bef9ea0a642d4a479aa1f350d29a8",
       "version_major": 2,
       "version_minor": 0
      },
      "text/plain": [
       "Button(description='Plot nearest hospital routes', style=ButtonStyle(), tooltip='click to plot route to nearby…"
      ]
     },
     "metadata": {},
     "output_type": "display_data"
    }
   ],
   "source": [
    "# create the action button\n",
    "import random\n",
    "drawbtn = widgets.Button(description='Plot nearest hospital routes', disabled=False,\n",
    "                         button_style='', tooltip='click to plot route to nearby hospitals',\n",
    "                         icon='')\n",
    "\n",
    "#creating an empty list of routes to display as popup\n",
    "routes = []\n",
    "\n",
    "\n",
    "def auto_on_drawbtn_clicked(b):\n",
    "    \n",
    "    \n",
    "    result = cf_layer.solve_closest_facility(\n",
    "    incidents=incident_fset1[-1],\n",
    "    facilities=hospitals_fset,\n",
    "    default_target_facility_count=5,\n",
    "    return_facilities=True,\n",
    "    impedance_attribute_name='TravelTime',\n",
    "    accumulate_attribute_names=['Kilometers','TravelTime'])\n",
    "\n",
    "    result.keys()\n",
    "    result['routes'].keys()\n",
    "    result['routes']['features'][0].keys()\n",
    "\n",
    "    line_feat_list = []\n",
    "    for line_dict in result['routes']['features']:\n",
    "        f1 = Feature(line_dict['geometry'], line_dict['attributes'])\n",
    "        line_feat_list.append(f1)\n",
    "\n",
    "    routes_fset = FeatureSet(line_feat_list, \n",
    "        geometry_type=result['routes']['geometryType'],\n",
    "        spatial_reference= result['routes']['spatialReference'])\n",
    "    \n",
    "    ##df for popup\n",
    "    \n",
    "        \n",
    "    routes.append(routes_fset)\n",
    "    m.draw(routes_fset)\n",
    "    \n",
    "    \n",
    "    \n",
    "    \n",
    "#     print(routes_fset)\n",
    "# create the action button\n",
    "\n",
    "\n",
    "\n",
    "drawbtn.on_click(auto_on_drawbtn_clicked)\n",
    "\n",
    "drawbtn"
   ]
  },
  {
   "cell_type": "code",
   "execution_count": 18,
   "metadata": {
    "extensions": {
     "jupyter_dashboards": {
      "version": 1,
      "views": {
       "grid_default": {},
       "report_default": {
        "hidden": false
       }
      }
     }
    }
   },
   "outputs": [
    {
     "data": {
      "application/vnd.jupyter.widget-view+json": {
       "model_id": "45642c6836204533a9aef2a07e24fe3b",
       "version_major": 2,
       "version_minor": 0
      },
      "text/plain": [
       "Button(description='Show result', style=ButtonStyle(), tooltip='Clear')"
      ]
     },
     "metadata": {},
     "output_type": "display_data"
    },
    {
     "name": "stdout",
     "output_type": "stream",
     "text": [
      "|    | Hospital_addresses                                                                                                                                   |   Total_Miles |   Total_TravelTime |   ambulance_availability |\n",
      "|---:|:-----------------------------------------------------------------------------------------------------------------------------------------------------|--------------:|-------------------:|-------------------------:|\n",
      "|  0 | Antop Hill,Antop Hill Mun.Disp,Shaikh Mistry Marg,Antop Hill Mumbai,400037.0,                                                                        |      0.320032 |            2.01045 |                        7 |\n",
      "|  1 | All India Institute of Physical Medicine and Rehabilitation (AIIPMR), Maharashtra,K. Khadye Marg,,Haji Ali,Mahalaxmi, Mumbai, Maharashtra, 400034.0, |      0.367449 |            2.61309 |                        3 |\n",
      "|  2 | Kumbharwada,Valmiki Nagar  MATUMGA LABOUR CAMP,nan,Mumbai,400019.0,                                                                                  |      0.627031 |            3.44217 |                        8 |\n",
      "|  3 | Zaobawadi,MUNICIPAL  MATERNITY HOME  3rd FLOOR,SURYAKANT WAGAL HOSPITAL,THAKUR DWAR CHARNI ROAD EAST,400002.0,                                       |      0.845899 |            5.33592 |                        7 |\n",
      "|  4 | G T Hospital,Lokmanya Tilak Road,,nan, 400001.0,                                                                                                     |      0.845899 |            5.33592 |                       10 |\n"
     ]
    }
   ],
   "source": [
    "\n",
    "def showoutput(routes):\n",
    "    df1 = routes[-1].sdf.sort_values(by=['Name'])\n",
    "    #     print(df1['FacilityID'])\n",
    "    filteredaddress = [hospitals_addresses[i] for i in df1['FacilityID']]\n",
    "\n",
    "    df1['Hospital_addresses'] = filteredaddress\n",
    "\n",
    "    pd.set_option('max_colwidth', 80)\n",
    "\n",
    "    df1[['Hospital_addresses','Total_Miles',\n",
    "         'Total_TravelTime']].sort_values(by=['Total_TravelTime'])\n",
    "\n",
    "\n",
    "    amb = pd.DataFrame({'ambulance_availability' : [random.randint(1,10) for _ in range(0,5)]})\n",
    "\n",
    "    df1 = df1.join(amb)\n",
    "\n",
    "    finaldf = df1[['Hospital_addresses','Total_Miles',\n",
    "         'Total_TravelTime', 'ambulance_availability']].sort_values(by=['Total_TravelTime'])\n",
    "    print(finaldf.to_markdown())\n",
    "    \n",
    "clrbtnshowresult = widgets.Button(description='Show result', disabled=False,\n",
    "                         button_style='', tooltip='Clear',\n",
    "                         icon='')\n",
    "def on_clrbtn_clicked_output(b):\n",
    "    showoutput(routes)\n",
    "\n",
    "def on_clrbtn_clicked_clear_output(b):\n",
    "    clear_output()\n",
    "    \n",
    "clrbtnshowresult.on_click(on_clrbtn_clicked_output)\n",
    "clrbtnshowresult"
   ]
  },
  {
   "cell_type": "code",
   "execution_count": 17,
   "metadata": {
    "extensions": {
     "jupyter_dashboards": {
      "version": 1,
      "views": {
       "grid_default": {},
       "report_default": {
        "hidden": false
       }
      }
     }
    }
   },
   "outputs": [
    {
     "name": "stdout",
     "output_type": "stream",
     "text": [
      "Collecting tabulate\n",
      "  Downloading tabulate-0.8.9-py3-none-any.whl (25 kB)\n",
      "Installing collected packages: tabulate\n",
      "Successfully installed tabulate-0.8.9\n"
     ]
    }
   ],
   "source": [
    "!pip install tabulate"
   ]
  },
  {
   "cell_type": "code",
   "execution_count": 16,
   "metadata": {
    "extensions": {
     "jupyter_dashboards": {
      "version": 1,
      "views": {
       "grid_default": {},
       "report_default": {
        "hidden": false
       }
      }
     }
    }
   },
   "outputs": [
    {
     "data": {
      "application/vnd.jupyter.widget-view+json": {
       "model_id": "a5838660ec624482bc429c12f431fe3e",
       "version_major": 2,
       "version_minor": 0
      },
      "text/plain": [
       "HBox(children=(Button(description='Clear Map', style=ButtonStyle(), tooltip='Clear'), Button(description='Clea…"
      ]
     },
     "metadata": {},
     "output_type": "display_data"
    }
   ],
   "source": [
    "# create the action button\n",
    "clrbtnMap = widgets.Button(description='Clear Map', disabled=False,\n",
    "                         button_style='', tooltip='Clear',\n",
    "                         icon='')\n",
    "clrbtnoutput = widgets.Button(description='Clear Output', disabled=False,\n",
    "                         button_style='', tooltip='Clear',\n",
    "                         icon='')\n",
    "\n",
    "    \n",
    "def on_clrbtn_clicked(b):\n",
    "    m.clear_graphics()\n",
    "    \n",
    "clrbtnoutput.on_click(on_clrbtn_clicked_clear_output)\n",
    "\n",
    "\n",
    "clrbtnMap.on_click(on_clrbtn_clicked)\n",
    "HBox([clrbtnMap, clrbtnoutput])"
   ]
  },
  {
   "cell_type": "code",
   "execution_count": null,
   "metadata": {
    "extensions": {
     "jupyter_dashboards": {
      "version": 1,
      "views": {
       "grid_default": {},
       "report_default": {
        "hidden": true
       }
      }
     }
    }
   },
   "outputs": [],
   "source": []
  }
 ],
 "metadata": {
  "esriNotebookRuntime": {
   "notebookRuntimeName": "ArcGIS Notebook Python 3 Standard",
   "notebookRuntimeVersion": "5.0"
  },
  "extensions": {
   "jupyter_dashboards": {
    "activeView": "report_default",
    "version": 1,
    "views": {
     "grid_default": {
      "name": "grid",
      "type": "grid"
     },
     "report_default": {
      "name": "report",
      "type": "report"
     }
    }
   }
  },
  "kernelspec": {
   "display_name": "Python 3",
   "language": "python",
   "name": "python3"
  },
  "language_info": {
   "codemirror_mode": {
    "name": "ipython",
    "version": 3
   },
   "file_extension": ".py",
   "mimetype": "text/x-python",
   "name": "python",
   "nbconvert_exporter": "python",
   "pygments_lexer": "ipython3",
   "version": "3.7.9"
  }
 },
 "nbformat": 4,
 "nbformat_minor": 2
}
