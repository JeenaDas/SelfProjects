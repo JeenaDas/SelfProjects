{
  "nbformat": 4,
  "nbformat_minor": 0,
  "metadata": {
    "colab": {
      "name": "coustmer.ipynb",
      "provenance": [],
      "collapsed_sections": []
    },
    "kernelspec": {
      "name": "python3",
      "display_name": "Python 3"
    },
    "language_info": {
      "name": "python"
    }
  },
  "cells": [
    {
      "cell_type": "code",
      "metadata": {
        "id": "mhoVPh-e7LJk"
      },
      "source": [
        "import pandas as pd\n",
        "import numpy as np\n",
        "import matplotlib\n",
        "import matplotlib.pyplot as plt\n",
        "import seaborn as sns\n",
        "import scipy as sp"
      ],
      "execution_count": null,
      "outputs": []
    },
    {
      "cell_type": "code",
      "metadata": {
        "colab": {
          "base_uri": "https://localhost:8080/"
        },
        "id": "EuZL1gi93WPn",
        "outputId": "f883aafb-abef-42bf-9424-57b8aba0816d"
      },
      "source": [
        "from sklearn.model_selection import cross_val_score, KFold, StratifiedKFold,ShuffleSplit, cross_validate\n",
        "from sklearn.datasets import make_blobs\n",
        "from sklearn.ensemble import RandomForestClassifier\n",
        "from sklearn.ensemble import ExtraTreesClassifier\n",
        "from sklearn.tree import DecisionTreeClassifier\n",
        "from sklearn.model_selection import train_test_split \n",
        "import pandas as pd\n",
        "from babel.numbers import format_currency\n",
        "from sklearn.ensemble import AdaBoostClassifier\n",
        "from sklearn.discriminant_analysis import QuadraticDiscriminantAnalysis,LinearDiscriminantAnalysis\n",
        "import numpy as np\n",
        "import seaborn as sns\n",
        "from matplotlib import pyplot as plt\n",
        "from tqdm import tqdm\n",
        "from sklearn.neighbors import KNeighborsClassifier\n",
        "from sklearn.neighbors.nearest_centroid import NearestCentroid\n",
        "from sklearn.semi_supervised import LabelPropagation, LabelSpreading\n",
        "from sklearn.svm import SVC  \n",
        "from xgboost import XGBClassifier\n",
        "import random\n",
        "from sklearn.metrics import classification_report\n",
        "from sklearn.metrics import confusion_matrix, accuracy_score\n",
        "from sklearn.linear_model import LogisticRegression, SGDClassifier, RidgeClassifier\n",
        "from sklearn.neural_network import MLPClassifier\n",
        "from sklearn.neighbors import RadiusNeighborsClassifier\n",
        "from sklearn.ensemble import GradientBoostingClassifier\n",
        "from sklearn.linear_model import PassiveAggressiveClassifier\n",
        "from sklearn.naive_bayes import MultinomialNB, BernoulliNB, GaussianNB\n",
        "from sklearn.svm import NuSVC\n",
        "from sklearn.metrics import roc_curve, precision_recall_curve, auc, make_scorer, recall_score, accuracy_score, precision_score, confusion_matrix\n",
        "import warnings\n",
        "from imblearn.over_sampling import SMOTE\n",
        "from sklearn.preprocessing import MinMaxScaler\n",
        "warnings.filterwarnings('ignore')\n",
        "\n",
        "from sklearn.model_selection import GridSearchCV\n",
        "from sklearn.metrics import make_scorer, average_precision_score, precision_recall_curve\n",
        "from mlxtend.classifier import EnsembleVoteClassifier\n",
        "\n",
        "seed = 0\n",
        "\n",
        "def confusion_mx(y, y_predict, labels = [0,1]):\n",
        "    cm = confusion_matrix(y, predictions, labels)\n",
        "    plt.figure(figsize=(4,3))\n",
        "    ax= plt.subplot()\n",
        "    sns.heatmap(cm, annot=True, ax = ax,fmt='g')\n",
        "    # labels, title and ticks\n",
        "    ax.set_xlabel('Predicted labels')\n",
        "    ax.set_ylabel('True labels')\n",
        "    ax.set_title('Confusion Matrix')\n",
        "    ax.xaxis.set_ticklabels([0, 1])\n",
        "    ax.yaxis.set_ticklabels([0, 1])\n",
        "    plt.show()\n",
        "def predict_metrics(y, predictions):\n",
        "    print(classification_report(y,predictions)) \n",
        "    print('>>> Accuracy:',np.round(accuracy_score(predictions, y),3),'<<<')\n",
        "    confusion_mx(y,predictions)\n"
      ],
      "execution_count": null,
      "outputs": [
        {
          "output_type": "stream",
          "text": [
            "/usr/local/lib/python3.7/dist-packages/sklearn/utils/deprecation.py:144: FutureWarning: The sklearn.neighbors.nearest_centroid module is  deprecated in version 0.22 and will be removed in version 0.24. The corresponding classes / functions should instead be imported from sklearn.neighbors. Anything that cannot be imported from sklearn.neighbors is now part of the private API.\n",
            "  warnings.warn(message, FutureWarning)\n",
            "/usr/local/lib/python3.7/dist-packages/sklearn/externals/six.py:31: FutureWarning: The module is deprecated in version 0.21 and will be removed in version 0.23 since we've dropped support for Python 2.7. Please rely on the official version of six (https://pypi.org/project/six/).\n",
            "  \"(https://pypi.org/project/six/).\", FutureWarning)\n",
            "/usr/local/lib/python3.7/dist-packages/sklearn/utils/deprecation.py:144: FutureWarning: The sklearn.neighbors.base module is  deprecated in version 0.22 and will be removed in version 0.24. The corresponding classes / functions should instead be imported from sklearn.neighbors. Anything that cannot be imported from sklearn.neighbors is now part of the private API.\n",
            "  warnings.warn(message, FutureWarning)\n"
          ],
          "name": "stderr"
        }
      ]
    },
    {
      "cell_type": "code",
      "metadata": {
        "id": "5NZdPLIi7fA8"
      },
      "source": [
        "data_path=\"Data.xlsx\"\n",
        "\n",
        "df=pd.read_excel(data_path, index_col=0)"
      ],
      "execution_count": null,
      "outputs": []
    },
    {
      "cell_type": "code",
      "metadata": {
        "id": "WmuMcPpS7hdd"
      },
      "source": [
        ""
      ],
      "execution_count": null,
      "outputs": []
    },
    {
      "cell_type": "code",
      "metadata": {
        "id": "rAz0Deopu3os",
        "colab": {
          "base_uri": "https://localhost:8080/",
          "height": 221
        },
        "outputId": "9e4b0c74-d30e-4de0-a232-87b2c25917dc"
      },
      "source": [
        "from sklearn.model_selection import train_test_split \n",
        "seed = 0\n",
        "test_size = 0.2\n",
        "x_train, x_test, y_train, y_test = train_test_split(df.drop(columns = ['Response']), df['Response'], test_size=test_size, random_state=seed, stratify = df['Response'])\n",
        "\n"
      ],
      "execution_count": null,
      "outputs": [
        {
          "output_type": "error",
          "ename": "NameError",
          "evalue": "ignored",
          "traceback": [
            "\u001b[0;31m---------------------------------------------------------------------------\u001b[0m",
            "\u001b[0;31mNameError\u001b[0m                                 Traceback (most recent call last)",
            "\u001b[0;32m<ipython-input-1-eda00c59b8ea>\u001b[0m in \u001b[0;36m<module>\u001b[0;34m()\u001b[0m\n\u001b[1;32m      2\u001b[0m \u001b[0mseed\u001b[0m \u001b[0;34m=\u001b[0m \u001b[0;36m0\u001b[0m\u001b[0;34m\u001b[0m\u001b[0;34m\u001b[0m\u001b[0m\n\u001b[1;32m      3\u001b[0m \u001b[0mtest_size\u001b[0m \u001b[0;34m=\u001b[0m \u001b[0;36m0.2\u001b[0m\u001b[0;34m\u001b[0m\u001b[0;34m\u001b[0m\u001b[0m\n\u001b[0;32m----> 4\u001b[0;31m \u001b[0mx_train\u001b[0m\u001b[0;34m,\u001b[0m \u001b[0mx_test\u001b[0m\u001b[0;34m,\u001b[0m \u001b[0my_train\u001b[0m\u001b[0;34m,\u001b[0m \u001b[0my_test\u001b[0m \u001b[0;34m=\u001b[0m \u001b[0mtrain_test_split\u001b[0m\u001b[0;34m(\u001b[0m\u001b[0mdf\u001b[0m\u001b[0;34m.\u001b[0m\u001b[0mdrop\u001b[0m\u001b[0;34m(\u001b[0m\u001b[0mcolumns\u001b[0m \u001b[0;34m=\u001b[0m \u001b[0;34m[\u001b[0m\u001b[0;34m'Response'\u001b[0m\u001b[0;34m]\u001b[0m\u001b[0;34m)\u001b[0m\u001b[0;34m,\u001b[0m \u001b[0mdf\u001b[0m\u001b[0;34m[\u001b[0m\u001b[0;34m'Response'\u001b[0m\u001b[0;34m]\u001b[0m\u001b[0;34m,\u001b[0m \u001b[0mtest_size\u001b[0m\u001b[0;34m=\u001b[0m\u001b[0mtest_size\u001b[0m\u001b[0;34m,\u001b[0m \u001b[0mrandom_state\u001b[0m\u001b[0;34m=\u001b[0m\u001b[0mseed\u001b[0m\u001b[0;34m,\u001b[0m \u001b[0mstratify\u001b[0m \u001b[0;34m=\u001b[0m \u001b[0mdf\u001b[0m\u001b[0;34m[\u001b[0m\u001b[0;34m'Response'\u001b[0m\u001b[0;34m]\u001b[0m\u001b[0;34m)\u001b[0m\u001b[0;34m\u001b[0m\u001b[0;34m\u001b[0m\u001b[0m\n\u001b[0m\u001b[1;32m      5\u001b[0m \u001b[0;34m\u001b[0m\u001b[0m\n",
            "\u001b[0;31mNameError\u001b[0m: name 'df' is not defined"
          ]
        }
      ]
    },
    {
      "cell_type": "code",
      "metadata": {
        "colab": {
          "base_uri": "https://localhost:8080/"
        },
        "id": "xzDLyMLPu3os",
        "outputId": "c1ef0820-fe82-4ac6-e6c6-3e2e171110ed"
      },
      "source": [
        "df = pd.concat([x_train,y_train], axis = 1)\n",
        "\n",
        "# export to csv test partition\n",
        "\n",
        "df_test = pd.concat([x_test, y_test], axis = 1)\n",
        "df_test.to_excel(\"df_TEST.xlsx\")\n",
        "\n",
        "print('Train Nr. obs:\\t{}\\t==> {:.2%} of Data'.format(df.shape[0],df.shape[0]/2240))\n",
        "print('Test Nr. obs:\\t{}\\t==> {:.2%} of Data'.format(df_test.shape[0],df_test.shape[0]/2240))"
      ],
      "execution_count": null,
      "outputs": [
        {
          "output_type": "stream",
          "text": [
            "Train Nr. obs:\t1792\t==> 80.00% of Data\n",
            "Test Nr. obs:\t448\t==> 20.00% of Data\n"
          ],
          "name": "stdout"
        }
      ]
    },
    {
      "cell_type": "code",
      "metadata": {
        "id": "YKSDS0S_u3ou"
      },
      "source": [
        "# Data in right Format\n",
        "\n",
        "df['Dt_Customer'] = pd.to_datetime(df['Dt_Customer'])\n",
        "\n",
        "# test\n",
        "\n",
        "df_test['Dt_Customer'] = pd.to_datetime(df_test['Dt_Customer'])"
      ],
      "execution_count": null,
      "outputs": []
    },
    {
      "cell_type": "code",
      "metadata": {
        "id": "28wNSKFVu3ov",
        "outputId": "2788df9e-c143-4e7d-983b-60d07f1ccf92"
      },
      "source": [
        "display(df.head(3))\n",
        "print(df.info(), \"\\nResponse rate: {}%\".format(round(100*df[\"Response\"].mean(), 2)))"
      ],
      "execution_count": null,
      "outputs": [
        {
          "output_type": "display_data",
          "data": {
            "text/html": [
              "<div>\n",
              "<style scoped>\n",
              "    .dataframe tbody tr th:only-of-type {\n",
              "        vertical-align: middle;\n",
              "    }\n",
              "\n",
              "    .dataframe tbody tr th {\n",
              "        vertical-align: top;\n",
              "    }\n",
              "\n",
              "    .dataframe thead th {\n",
              "        text-align: right;\n",
              "    }\n",
              "</style>\n",
              "<table border=\"1\" class=\"dataframe\">\n",
              "  <thead>\n",
              "    <tr style=\"text-align: right;\">\n",
              "      <th></th>\n",
              "      <th>Year_Birth</th>\n",
              "      <th>Education</th>\n",
              "      <th>Marital_Status</th>\n",
              "      <th>Income</th>\n",
              "      <th>Kidhome</th>\n",
              "      <th>Teenhome</th>\n",
              "      <th>Dt_Customer</th>\n",
              "      <th>Recency</th>\n",
              "      <th>MntWines</th>\n",
              "      <th>MntFruits</th>\n",
              "      <th>...</th>\n",
              "      <th>NumWebVisitsMonth</th>\n",
              "      <th>AcceptedCmp3</th>\n",
              "      <th>AcceptedCmp4</th>\n",
              "      <th>AcceptedCmp5</th>\n",
              "      <th>AcceptedCmp1</th>\n",
              "      <th>AcceptedCmp2</th>\n",
              "      <th>Complain</th>\n",
              "      <th>Z_CostContact</th>\n",
              "      <th>Z_Revenue</th>\n",
              "      <th>Response</th>\n",
              "    </tr>\n",
              "    <tr>\n",
              "      <th>ID</th>\n",
              "      <th></th>\n",
              "      <th></th>\n",
              "      <th></th>\n",
              "      <th></th>\n",
              "      <th></th>\n",
              "      <th></th>\n",
              "      <th></th>\n",
              "      <th></th>\n",
              "      <th></th>\n",
              "      <th></th>\n",
              "      <th></th>\n",
              "      <th></th>\n",
              "      <th></th>\n",
              "      <th></th>\n",
              "      <th></th>\n",
              "      <th></th>\n",
              "      <th></th>\n",
              "      <th></th>\n",
              "      <th></th>\n",
              "      <th></th>\n",
              "      <th></th>\n",
              "    </tr>\n",
              "  </thead>\n",
              "  <tbody>\n",
              "    <tr>\n",
              "      <th>67</th>\n",
              "      <td>1972</td>\n",
              "      <td>Master</td>\n",
              "      <td>Single</td>\n",
              "      <td>46423.0</td>\n",
              "      <td>1</td>\n",
              "      <td>1</td>\n",
              "      <td>2013-09-18</td>\n",
              "      <td>6</td>\n",
              "      <td>68</td>\n",
              "      <td>0</td>\n",
              "      <td>...</td>\n",
              "      <td>7</td>\n",
              "      <td>0</td>\n",
              "      <td>0</td>\n",
              "      <td>0</td>\n",
              "      <td>0</td>\n",
              "      <td>0</td>\n",
              "      <td>0</td>\n",
              "      <td>3</td>\n",
              "      <td>11</td>\n",
              "      <td>0</td>\n",
              "    </tr>\n",
              "    <tr>\n",
              "      <th>3828</th>\n",
              "      <td>1951</td>\n",
              "      <td>Graduation</td>\n",
              "      <td>Married</td>\n",
              "      <td>71107.0</td>\n",
              "      <td>0</td>\n",
              "      <td>1</td>\n",
              "      <td>2013-02-17</td>\n",
              "      <td>61</td>\n",
              "      <td>533</td>\n",
              "      <td>10</td>\n",
              "      <td>...</td>\n",
              "      <td>4</td>\n",
              "      <td>0</td>\n",
              "      <td>0</td>\n",
              "      <td>0</td>\n",
              "      <td>0</td>\n",
              "      <td>0</td>\n",
              "      <td>0</td>\n",
              "      <td>3</td>\n",
              "      <td>11</td>\n",
              "      <td>0</td>\n",
              "    </tr>\n",
              "    <tr>\n",
              "      <th>3409</th>\n",
              "      <td>1984</td>\n",
              "      <td>Graduation</td>\n",
              "      <td>Single</td>\n",
              "      <td>36108.0</td>\n",
              "      <td>1</td>\n",
              "      <td>0</td>\n",
              "      <td>2013-10-15</td>\n",
              "      <td>68</td>\n",
              "      <td>141</td>\n",
              "      <td>8</td>\n",
              "      <td>...</td>\n",
              "      <td>9</td>\n",
              "      <td>1</td>\n",
              "      <td>0</td>\n",
              "      <td>0</td>\n",
              "      <td>0</td>\n",
              "      <td>0</td>\n",
              "      <td>0</td>\n",
              "      <td>3</td>\n",
              "      <td>11</td>\n",
              "      <td>0</td>\n",
              "    </tr>\n",
              "  </tbody>\n",
              "</table>\n",
              "<p>3 rows × 28 columns</p>\n",
              "</div>"
            ],
            "text/plain": [
              "      Year_Birth   Education Marital_Status   Income  Kidhome  Teenhome  \\\n",
              "ID                                                                        \n",
              "67          1972      Master         Single  46423.0        1         1   \n",
              "3828        1951  Graduation        Married  71107.0        0         1   \n",
              "3409        1984  Graduation         Single  36108.0        1         0   \n",
              "\n",
              "     Dt_Customer  Recency  MntWines  MntFruits    ...     NumWebVisitsMonth  \\\n",
              "ID                                                ...                         \n",
              "67    2013-09-18        6        68          0    ...                     7   \n",
              "3828  2013-02-17       61       533         10    ...                     4   \n",
              "3409  2013-10-15       68       141          8    ...                     9   \n",
              "\n",
              "      AcceptedCmp3  AcceptedCmp4  AcceptedCmp5  AcceptedCmp1  AcceptedCmp2  \\\n",
              "ID                                                                           \n",
              "67               0             0             0             0             0   \n",
              "3828             0             0             0             0             0   \n",
              "3409             1             0             0             0             0   \n",
              "\n",
              "      Complain  Z_CostContact  Z_Revenue  Response  \n",
              "ID                                                  \n",
              "67           0              3         11         0  \n",
              "3828         0              3         11         0  \n",
              "3409         0              3         11         0  \n",
              "\n",
              "[3 rows x 28 columns]"
            ]
          },
          "metadata": {
            "tags": []
          }
        },
        {
          "output_type": "stream",
          "text": [
            "<class 'pandas.core.frame.DataFrame'>\n",
            "Int64Index: 1792 entries, 67 to 8026\n",
            "Data columns (total 28 columns):\n",
            "Year_Birth             1792 non-null int64\n",
            "Education              1792 non-null object\n",
            "Marital_Status         1792 non-null object\n",
            "Income                 1772 non-null float64\n",
            "Kidhome                1792 non-null int64\n",
            "Teenhome               1792 non-null int64\n",
            "Dt_Customer            1792 non-null datetime64[ns]\n",
            "Recency                1792 non-null int64\n",
            "MntWines               1792 non-null int64\n",
            "MntFruits              1792 non-null int64\n",
            "MntMeatProducts        1792 non-null int64\n",
            "MntFishProducts        1792 non-null int64\n",
            "MntSweetProducts       1792 non-null int64\n",
            "MntGoldProds           1792 non-null int64\n",
            "NumDealsPurchases      1792 non-null int64\n",
            "NumWebPurchases        1792 non-null int64\n",
            "NumCatalogPurchases    1792 non-null int64\n",
            "NumStorePurchases      1792 non-null int64\n",
            "NumWebVisitsMonth      1792 non-null int64\n",
            "AcceptedCmp3           1792 non-null int64\n",
            "AcceptedCmp4           1792 non-null int64\n",
            "AcceptedCmp5           1792 non-null int64\n",
            "AcceptedCmp1           1792 non-null int64\n",
            "AcceptedCmp2           1792 non-null int64\n",
            "Complain               1792 non-null int64\n",
            "Z_CostContact          1792 non-null int64\n",
            "Z_Revenue              1792 non-null int64\n",
            "Response               1792 non-null int64\n",
            "dtypes: datetime64[ns](1), float64(1), int64(24), object(2)\n",
            "memory usage: 406.0+ KB\n",
            "None \n",
            "Response rate: 14.9%\n"
          ],
          "name": "stdout"
        }
      ]
    },
    {
      "cell_type": "code",
      "metadata": {
        "colab": {
          "base_uri": "https://localhost:8080/"
        },
        "id": "rZ2S1Vzku3ow",
        "outputId": "0085fac8-3dd6-4cd3-d273-64b062068109"
      },
      "source": [
        "# Get dataset size saved\n",
        "\n",
        "df_original_size = len(df)\n",
        "print (\">>>\",df_original_size,\"Observations\")"
      ],
      "execution_count": null,
      "outputs": [
        {
          "output_type": "stream",
          "text": [
            ">>> 1792 Observations\n"
          ],
          "name": "stdout"
        }
      ]
    },
    {
      "cell_type": "code",
      "metadata": {
        "id": "10uGB39zu3ox"
      },
      "source": [
        "# function that returns number of missings, percentage of missings and if it is above or below 3% threshold\n",
        "\n",
        "def missing_values_reporter(df):    \n",
        "    na_count = df.isna().sum() \n",
        "    ser = na_count[na_count > 0]\n",
        "    ser_p = np.round(ser.divide(df.shape[0])*100,2)\n",
        "    tmp = pd.DataFrame({\"N missings\": ser,\"% missings\": ser_p,\"Above Threshold (3%)\": False})\n",
        "    tmp.loc[tmp[\"% missings\"] > 3., 'Above Threshold (3%)'] = 'True' \n",
        "    return tmp"
      ],
      "execution_count": null,
      "outputs": []
    },
    {
      "cell_type": "code",
      "metadata": {
        "colab": {
          "base_uri": "https://localhost:8080/",
          "height": 81
        },
        "id": "q6WTJg1Gu3oy",
        "outputId": "b837ef88-f60a-4bf2-b267-970b128f7ada"
      },
      "source": [
        "df_miss=missing_values_reporter(df)\n",
        "df_miss"
      ],
      "execution_count": null,
      "outputs": [
        {
          "output_type": "execute_result",
          "data": {
            "text/html": [
              "<div>\n",
              "<style scoped>\n",
              "    .dataframe tbody tr th:only-of-type {\n",
              "        vertical-align: middle;\n",
              "    }\n",
              "\n",
              "    .dataframe tbody tr th {\n",
              "        vertical-align: top;\n",
              "    }\n",
              "\n",
              "    .dataframe thead th {\n",
              "        text-align: right;\n",
              "    }\n",
              "</style>\n",
              "<table border=\"1\" class=\"dataframe\">\n",
              "  <thead>\n",
              "    <tr style=\"text-align: right;\">\n",
              "      <th></th>\n",
              "      <th>N missings</th>\n",
              "      <th>% missings</th>\n",
              "      <th>Above Threshold (3%)</th>\n",
              "    </tr>\n",
              "  </thead>\n",
              "  <tbody>\n",
              "    <tr>\n",
              "      <th>Income</th>\n",
              "      <td>20</td>\n",
              "      <td>1.12</td>\n",
              "      <td>False</td>\n",
              "    </tr>\n",
              "  </tbody>\n",
              "</table>\n",
              "</div>"
            ],
            "text/plain": [
              "        N missings  % missings Above Threshold (3%)\n",
              "Income          20        1.12                False"
            ]
          },
          "metadata": {
            "tags": []
          },
          "execution_count": 10
        }
      ]
    },
    {
      "cell_type": "code",
      "metadata": {
        "scrolled": true,
        "id": "_Qpt-uf3u3oz",
        "outputId": "1c0a73d2-ee66-4974-9e42-add1122d7018"
      },
      "source": [
        "# cutoff is in percentage\n",
        "\n",
        "cutoff_ = 3\n",
        "\n",
        "cutoff_list = [cutoff_, cutoff_]\n",
        "#plt.figure(figsize=(15,5))\n",
        "ax = df_miss.sort_values('% missings', ascending=False).plot.bar(y=\"% missings\", \n",
        "                                                                 color=\"Grey\",\n",
        "                                                                 alpha = 0.9,\n",
        "                                                                 title=\"{}% cutoff line on missing values\".format(cutoff_),\n",
        "                                                                 legend=False)\n",
        "ax.set_xlabel(\"Features with missing values\", size=12)\n",
        "ax.set_ylabel(\"Proportion of missings\")\n",
        "ax.plot([-1, len(df_miss.index)], cutoff_list,'r--', lw=2)\n",
        "ax.set_xticklabels(df_miss.index, rotation=60, size=9)\n",
        "plt.show()"
      ],
      "execution_count": null,
      "outputs": [
        {
          "output_type": "display_data",
          "data": {
            "image/png": "[encoded data removed]",
            "text/plain": [
              "<Figure size 432x288 with 1 Axes>"
            ]
          },
          "metadata": {
            "tags": []
          }
        }
      ]
    },
    {
      "cell_type": "code",
      "metadata": {
        "id": "xDIR3xTsu3o2"
      },
      "source": [
        "# delete missing values (automate process..)\n",
        "\n",
        "df.dropna(inplace=True)\n",
        "\n",
        "# test\n",
        "#df_test.dropna(inplace=True)"
      ],
      "execution_count": null,
      "outputs": []
    },
    {
      "cell_type": "code",
      "metadata": {
        "id": "SKllr2mLu3o2",
        "outputId": "9ad631ca-2ebd-4c8f-95a6-caa3a3050aa0"
      },
      "source": [
        "df.shape"
      ],
      "execution_count": null,
      "outputs": [
        {
          "output_type": "execute_result",
          "data": {
            "text/plain": [
              "(1772, 28)"
            ]
          },
          "metadata": {
            "tags": []
          },
          "execution_count": 12
        }
      ]
    },
    {
      "cell_type": "markdown",
      "metadata": {
        "id": "ia5GAtC4u3o3"
      },
      "source": [
        "# Describe categorical features"
      ]
    },
    {
      "cell_type": "code",
      "metadata": {
        "scrolled": true,
        "colab": {
          "base_uri": "https://localhost:8080/",
          "height": 175
        },
        "id": "dQ2TQvpzu3o4",
        "outputId": "7226e1a0-b2a3-4bb2-d4f9-1a95ecf0e2ea"
      },
      "source": [
        "df.describe(include=[\"object\", \"category\"])"
      ],
      "execution_count": null,
      "outputs": [
        {
          "output_type": "execute_result",
          "data": {
            "text/html": [
              "<div>\n",
              "<style scoped>\n",
              "    .dataframe tbody tr th:only-of-type {\n",
              "        vertical-align: middle;\n",
              "    }\n",
              "\n",
              "    .dataframe tbody tr th {\n",
              "        vertical-align: top;\n",
              "    }\n",
              "\n",
              "    .dataframe thead th {\n",
              "        text-align: right;\n",
              "    }\n",
              "</style>\n",
              "<table border=\"1\" class=\"dataframe\">\n",
              "  <thead>\n",
              "    <tr style=\"text-align: right;\">\n",
              "      <th></th>\n",
              "      <th>Education</th>\n",
              "      <th>Marital_Status</th>\n",
              "    </tr>\n",
              "  </thead>\n",
              "  <tbody>\n",
              "    <tr>\n",
              "      <th>count</th>\n",
              "      <td>1772</td>\n",
              "      <td>1772</td>\n",
              "    </tr>\n",
              "    <tr>\n",
              "      <th>unique</th>\n",
              "      <td>5</td>\n",
              "      <td>8</td>\n",
              "    </tr>\n",
              "    <tr>\n",
              "      <th>top</th>\n",
              "      <td>Graduation</td>\n",
              "      <td>Married</td>\n",
              "    </tr>\n",
              "    <tr>\n",
              "      <th>freq</th>\n",
              "      <td>895</td>\n",
              "      <td>686</td>\n",
              "    </tr>\n",
              "  </tbody>\n",
              "</table>\n",
              "</div>"
            ],
            "text/plain": [
              "         Education Marital_Status\n",
              "count         1772           1772\n",
              "unique           5              8\n",
              "top     Graduation        Married\n",
              "freq           895            686"
            ]
          },
          "metadata": {
            "tags": []
          },
          "execution_count": 12
        }
      ]
    },
    {
      "cell_type": "code",
      "metadata": {
        "id": "E8bBqTvJu3o4"
      },
      "source": [
        "def describe_cat(df, list_cfeatures, target):\n",
        "    cat_list = []\n",
        "    for feature in df[list_cfeatures]:    \n",
        "        cat_list.append(df.groupby([feature]).agg({target: ['count', \"mean\"]}))\n",
        "    return pd.concat(cat_list, axis=0, keys=list_cfeatures)"
      ],
      "execution_count": null,
      "outputs": []
    },
    {
      "cell_type": "code",
      "metadata": {
        "colab": {
          "base_uri": "https://localhost:8080/",
          "height": 486
        },
        "id": "GXTRuwA5u3o5",
        "outputId": "15d85f7e-537a-49e8-bd7d-6d497492f8e0"
      },
      "source": [
        "df_cat=describe_cat(df, df.select_dtypes(include=[\"object\", \"category\"]).columns, \"Response\")\n",
        "df_cat"
      ],
      "execution_count": null,
      "outputs": [
        {
          "output_type": "execute_result",
          "data": {
            "text/html": [
              "<div>\n",
              "<style scoped>\n",
              "    .dataframe tbody tr th:only-of-type {\n",
              "        vertical-align: middle;\n",
              "    }\n",
              "\n",
              "    .dataframe tbody tr th {\n",
              "        vertical-align: top;\n",
              "    }\n",
              "\n",
              "    .dataframe thead tr th {\n",
              "        text-align: left;\n",
              "    }\n",
              "</style>\n",
              "<table border=\"1\" class=\"dataframe\">\n",
              "  <thead>\n",
              "    <tr>\n",
              "      <th></th>\n",
              "      <th></th>\n",
              "      <th colspan=\"2\" halign=\"left\">Response</th>\n",
              "    </tr>\n",
              "    <tr>\n",
              "      <th></th>\n",
              "      <th></th>\n",
              "      <th>count</th>\n",
              "      <th>mean</th>\n",
              "    </tr>\n",
              "  </thead>\n",
              "  <tbody>\n",
              "    <tr>\n",
              "      <th rowspan=\"5\" valign=\"top\">Education</th>\n",
              "      <th>2n Cycle</th>\n",
              "      <td>152</td>\n",
              "      <td>0.098684</td>\n",
              "    </tr>\n",
              "    <tr>\n",
              "      <th>Basic</th>\n",
              "      <td>48</td>\n",
              "      <td>0.041667</td>\n",
              "    </tr>\n",
              "    <tr>\n",
              "      <th>Graduation</th>\n",
              "      <td>895</td>\n",
              "      <td>0.140782</td>\n",
              "    </tr>\n",
              "    <tr>\n",
              "      <th>Master</th>\n",
              "      <td>296</td>\n",
              "      <td>0.155405</td>\n",
              "    </tr>\n",
              "    <tr>\n",
              "      <th>PhD</th>\n",
              "      <td>381</td>\n",
              "      <td>0.202100</td>\n",
              "    </tr>\n",
              "    <tr>\n",
              "      <th rowspan=\"8\" valign=\"top\">Marital_Status</th>\n",
              "      <th>Absurd</th>\n",
              "      <td>2</td>\n",
              "      <td>0.500000</td>\n",
              "    </tr>\n",
              "    <tr>\n",
              "      <th>Alone</th>\n",
              "      <td>2</td>\n",
              "      <td>0.500000</td>\n",
              "    </tr>\n",
              "    <tr>\n",
              "      <th>Divorced</th>\n",
              "      <td>183</td>\n",
              "      <td>0.224044</td>\n",
              "    </tr>\n",
              "    <tr>\n",
              "      <th>Married</th>\n",
              "      <td>686</td>\n",
              "      <td>0.102041</td>\n",
              "    </tr>\n",
              "    <tr>\n",
              "      <th>Single</th>\n",
              "      <td>377</td>\n",
              "      <td>0.230769</td>\n",
              "    </tr>\n",
              "    <tr>\n",
              "      <th>Together</th>\n",
              "      <td>454</td>\n",
              "      <td>0.110132</td>\n",
              "    </tr>\n",
              "    <tr>\n",
              "      <th>Widow</th>\n",
              "      <td>66</td>\n",
              "      <td>0.227273</td>\n",
              "    </tr>\n",
              "    <tr>\n",
              "      <th>YOLO</th>\n",
              "      <td>2</td>\n",
              "      <td>0.500000</td>\n",
              "    </tr>\n",
              "  </tbody>\n",
              "</table>\n",
              "</div>"
            ],
            "text/plain": [
              "                          Response          \n",
              "                             count      mean\n",
              "Education      2n Cycle        152  0.098684\n",
              "               Basic            48  0.041667\n",
              "               Graduation      895  0.140782\n",
              "               Master          296  0.155405\n",
              "               PhD             381  0.202100\n",
              "Marital_Status Absurd            2  0.500000\n",
              "               Alone             2  0.500000\n",
              "               Divorced        183  0.224044\n",
              "               Married         686  0.102041\n",
              "               Single          377  0.230769\n",
              "               Together        454  0.110132\n",
              "               Widow            66  0.227273\n",
              "               YOLO              2  0.500000"
            ]
          },
          "metadata": {
            "tags": []
          },
          "execution_count": 14
        }
      ]
    },
    {
      "cell_type": "markdown",
      "metadata": {
        "id": "4uEDMLrvu3o6"
      },
      "source": [
        "# !!!!!!!!!!!!!\n",
        "# Missings nas categoricas"
      ]
    },
    {
      "cell_type": "code",
      "metadata": {
        "id": "mTan_2qwu3o7"
      },
      "source": [
        "# remove unwanted categories\n",
        "\n",
        "education_cat = ['2n Cycle','Basic','Graduation','Master','PhD']\n",
        "marital_cat = ['Divorced','Divorced','Married','Single','Together','Widow']\n",
        "\n",
        "df = df[df['Education'].isin(education_cat)]\n",
        "df = df[df['Marital_Status'].isin(marital_cat)]\n",
        "\n",
        "# test\n",
        "\n",
        "#df_test = df_test[df_test['Education'].isin(education_cat)]\n",
        "#df_test = df_test[df_test['Marital_Status'].isin(marital_cat)]"
      ],
      "execution_count": null,
      "outputs": []
    },
    {
      "cell_type": "code",
      "metadata": {
        "colab": {
          "base_uri": "https://localhost:8080/",
          "height": 393
        },
        "id": "Owt887SRu3o8",
        "outputId": "297788ec-28ef-4045-de9f-22c303da1a31"
      },
      "source": [
        "df_cat=describe_cat(df, df.select_dtypes(include=[\"object\", \"category\"]).columns, \"Response\")\n",
        "df_cat"
      ],
      "execution_count": null,
      "outputs": [
        {
          "output_type": "execute_result",
          "data": {
            "text/html": [
              "<div>\n",
              "<style scoped>\n",
              "    .dataframe tbody tr th:only-of-type {\n",
              "        vertical-align: middle;\n",
              "    }\n",
              "\n",
              "    .dataframe tbody tr th {\n",
              "        vertical-align: top;\n",
              "    }\n",
              "\n",
              "    .dataframe thead tr th {\n",
              "        text-align: left;\n",
              "    }\n",
              "</style>\n",
              "<table border=\"1\" class=\"dataframe\">\n",
              "  <thead>\n",
              "    <tr>\n",
              "      <th></th>\n",
              "      <th></th>\n",
              "      <th colspan=\"2\" halign=\"left\">Response</th>\n",
              "    </tr>\n",
              "    <tr>\n",
              "      <th></th>\n",
              "      <th></th>\n",
              "      <th>count</th>\n",
              "      <th>mean</th>\n",
              "    </tr>\n",
              "  </thead>\n",
              "  <tbody>\n",
              "    <tr>\n",
              "      <th rowspan=\"5\" valign=\"top\">Education</th>\n",
              "      <th>2n Cycle</th>\n",
              "      <td>152</td>\n",
              "      <td>0.098684</td>\n",
              "    </tr>\n",
              "    <tr>\n",
              "      <th>Basic</th>\n",
              "      <td>48</td>\n",
              "      <td>0.041667</td>\n",
              "    </tr>\n",
              "    <tr>\n",
              "      <th>Graduation</th>\n",
              "      <td>894</td>\n",
              "      <td>0.139821</td>\n",
              "    </tr>\n",
              "    <tr>\n",
              "      <th>Master</th>\n",
              "      <td>294</td>\n",
              "      <td>0.156463</td>\n",
              "    </tr>\n",
              "    <tr>\n",
              "      <th>PhD</th>\n",
              "      <td>378</td>\n",
              "      <td>0.198413</td>\n",
              "    </tr>\n",
              "    <tr>\n",
              "      <th rowspan=\"5\" valign=\"top\">Marital_Status</th>\n",
              "      <th>Divorced</th>\n",
              "      <td>183</td>\n",
              "      <td>0.224044</td>\n",
              "    </tr>\n",
              "    <tr>\n",
              "      <th>Married</th>\n",
              "      <td>686</td>\n",
              "      <td>0.102041</td>\n",
              "    </tr>\n",
              "    <tr>\n",
              "      <th>Single</th>\n",
              "      <td>377</td>\n",
              "      <td>0.230769</td>\n",
              "    </tr>\n",
              "    <tr>\n",
              "      <th>Together</th>\n",
              "      <td>454</td>\n",
              "      <td>0.110132</td>\n",
              "    </tr>\n",
              "    <tr>\n",
              "      <th>Widow</th>\n",
              "      <td>66</td>\n",
              "      <td>0.227273</td>\n",
              "    </tr>\n",
              "  </tbody>\n",
              "</table>\n",
              "</div>"
            ],
            "text/plain": [
              "                          Response          \n",
              "                             count      mean\n",
              "Education      2n Cycle        152  0.098684\n",
              "               Basic            48  0.041667\n",
              "               Graduation      894  0.139821\n",
              "               Master          294  0.156463\n",
              "               PhD             378  0.198413\n",
              "Marital_Status Divorced        183  0.224044\n",
              "               Married         686  0.102041\n",
              "               Single          377  0.230769\n",
              "               Together        454  0.110132\n",
              "               Widow            66  0.227273"
            ]
          },
          "metadata": {
            "tags": []
          },
          "execution_count": 16
        }
      ]
    },
    {
      "cell_type": "code",
      "metadata": {
        "id": "skwUXIesu3o-"
      },
      "source": [
        "import matplotlib.ticker as mtick\n",
        "def categorical_discrimination_plot(df, list_cfeatures, target):\n",
        "    rm_df_cat = describe_cat(df, list_cfeatures, target)\n",
        "\n",
        "    cutoff_ = df[target].mean()\n",
        "    cutoff_list = [cutoff_, cutoff_]\n",
        "    \n",
        "    for feature in list_cfeatures:\n",
        "        df_cat=rm_df_cat.iloc[:, 1][feature].sort_values(ascending=False)\n",
        "        color_t = ['grey' if x > cutoff_ else 'lightgrey' for x in df_cat]\n",
        "        plt.figure(figsize=(15,5))\n",
        "        ax = df_cat.plot.bar(color=color_t,\n",
        "                             alpha = 0.9,\n",
        "                             title=\"{}% cutoff line on discrimination ability\".format(round(cutoff_*100, 2)),\n",
        "                             legend=False)\n",
        "        ax.set_xticklabels(df_cat.index, rotation=60, size=9)  \n",
        "        ax.yaxis.set_major_formatter(mtick.PercentFormatter(1.0))\n",
        "        ax.set_ylabel(\"Proportion of respondents\")\n",
        "        ax.set_xlabel(feature)\n",
        "        ax.plot([-1, len(df_cat)], cutoff_list,'r--', lw=2.5, color='firebrick')\n",
        "        plt.show()"
      ],
      "execution_count": null,
      "outputs": []
    },
    {
      "cell_type": "code",
      "metadata": {
        "scrolled": false,
        "colab": {
          "base_uri": "https://localhost:8080/",
          "height": 682
        },
        "id": "BEN8u4IIu3o-",
        "outputId": "408bd94e-dec2-4af9-b44d-48c8c1b2b719"
      },
      "source": [
        "categorical_discrimination_plot(df, df.select_dtypes(include=[\"object\", \"category\"]).columns, \"Response\")"
      ],
      "execution_count": null,
      "outputs": [
        {
          "output_type": "display_data",
          "data": {
            "image/png": "[encoded data removed]",
            "text/plain": [
              "<Figure size 1080x360 with 1 Axes>"
            ]
          },
          "metadata": {
            "tags": [],
            "needs_background": "light"
          }
        },
        {
          "output_type": "display_data",
          "data": {
            "image/png": "[encoded data removed]",
            "text/plain": [
              "<Figure size 1080x360 with 1 Axes>"
            ]
          },
          "metadata": {
            "tags": [],
            "needs_background": "light"
          }
        }
      ]
    },
    {
      "cell_type": "markdown",
      "metadata": {
        "id": "QE1nVa1Hu3o_"
      },
      "source": [
        "# Describe numerical features"
      ]
    },
    {
      "cell_type": "code",
      "metadata": {
        "scrolled": true,
        "colab": {
          "base_uri": "https://localhost:8080/",
          "height": 382
        },
        "id": "C8VYhQPsu3o_",
        "outputId": "bc64c6c2-c6a7-44e3-effe-84053025a661"
      },
      "source": [
        "describe_num=df.describe(percentiles=np.arange(0.2, .8, .2))\n",
        "display(describe_num)"
      ],
      "execution_count": null,
      "outputs": [
        {
          "output_type": "display_data",
          "data": {
            "text/html": [
              "<div>\n",
              "<style scoped>\n",
              "    .dataframe tbody tr th:only-of-type {\n",
              "        vertical-align: middle;\n",
              "    }\n",
              "\n",
              "    .dataframe tbody tr th {\n",
              "        vertical-align: top;\n",
              "    }\n",
              "\n",
              "    .dataframe thead th {\n",
              "        text-align: right;\n",
              "    }\n",
              "</style>\n",
              "<table border=\"1\" class=\"dataframe\">\n",
              "  <thead>\n",
              "    <tr style=\"text-align: right;\">\n",
              "      <th></th>\n",
              "      <th>Year_Birth</th>\n",
              "      <th>Income</th>\n",
              "      <th>Kidhome</th>\n",
              "      <th>Teenhome</th>\n",
              "      <th>Recency</th>\n",
              "      <th>MntWines</th>\n",
              "      <th>MntFruits</th>\n",
              "      <th>MntMeatProducts</th>\n",
              "      <th>MntFishProducts</th>\n",
              "      <th>MntSweetProducts</th>\n",
              "      <th>MntGoldProds</th>\n",
              "      <th>NumDealsPurchases</th>\n",
              "      <th>NumWebPurchases</th>\n",
              "      <th>NumCatalogPurchases</th>\n",
              "      <th>NumStorePurchases</th>\n",
              "      <th>NumWebVisitsMonth</th>\n",
              "      <th>AcceptedCmp3</th>\n",
              "      <th>AcceptedCmp4</th>\n",
              "      <th>AcceptedCmp5</th>\n",
              "      <th>AcceptedCmp1</th>\n",
              "      <th>AcceptedCmp2</th>\n",
              "      <th>Complain</th>\n",
              "      <th>Z_CostContact</th>\n",
              "      <th>Z_Revenue</th>\n",
              "      <th>Response</th>\n",
              "    </tr>\n",
              "  </thead>\n",
              "  <tbody>\n",
              "    <tr>\n",
              "      <th>count</th>\n",
              "      <td>1766.000000</td>\n",
              "      <td>1766.000000</td>\n",
              "      <td>1766.000000</td>\n",
              "      <td>1766.000000</td>\n",
              "      <td>1766.000000</td>\n",
              "      <td>1766.000000</td>\n",
              "      <td>1766.000000</td>\n",
              "      <td>1766.000000</td>\n",
              "      <td>1766.000000</td>\n",
              "      <td>1766.000000</td>\n",
              "      <td>1766.000000</td>\n",
              "      <td>1766.000000</td>\n",
              "      <td>1766.000000</td>\n",
              "      <td>1766.000000</td>\n",
              "      <td>1766.000000</td>\n",
              "      <td>1766.000000</td>\n",
              "      <td>1766.000000</td>\n",
              "      <td>1766.000000</td>\n",
              "      <td>1766.000000</td>\n",
              "      <td>1766.000000</td>\n",
              "      <td>1766.000000</td>\n",
              "      <td>1766.000000</td>\n",
              "      <td>1766.0</td>\n",
              "      <td>1766.0</td>\n",
              "      <td>1766.000000</td>\n",
              "    </tr>\n",
              "    <tr>\n",
              "      <th>mean</th>\n",
              "      <td>1968.855040</td>\n",
              "      <td>51610.984711</td>\n",
              "      <td>0.441676</td>\n",
              "      <td>0.506795</td>\n",
              "      <td>48.771234</td>\n",
              "      <td>299.983579</td>\n",
              "      <td>25.944507</td>\n",
              "      <td>166.294451</td>\n",
              "      <td>36.650623</td>\n",
              "      <td>26.574745</td>\n",
              "      <td>43.610419</td>\n",
              "      <td>2.345413</td>\n",
              "      <td>4.060023</td>\n",
              "      <td>2.646093</td>\n",
              "      <td>5.791619</td>\n",
              "      <td>5.343148</td>\n",
              "      <td>0.070781</td>\n",
              "      <td>0.070215</td>\n",
              "      <td>0.071348</td>\n",
              "      <td>0.061721</td>\n",
              "      <td>0.013590</td>\n",
              "      <td>0.008494</td>\n",
              "      <td>3.0</td>\n",
              "      <td>11.0</td>\n",
              "      <td>0.148924</td>\n",
              "    </tr>\n",
              "    <tr>\n",
              "      <th>std</th>\n",
              "      <td>11.848976</td>\n",
              "      <td>21773.344045</td>\n",
              "      <td>0.531976</td>\n",
              "      <td>0.542483</td>\n",
              "      <td>29.027208</td>\n",
              "      <td>334.011895</td>\n",
              "      <td>39.598685</td>\n",
              "      <td>226.885089</td>\n",
              "      <td>53.410598</td>\n",
              "      <td>40.771926</td>\n",
              "      <td>51.858426</td>\n",
              "      <td>1.949983</td>\n",
              "      <td>2.768462</td>\n",
              "      <td>2.958428</td>\n",
              "      <td>3.270377</td>\n",
              "      <td>2.398778</td>\n",
              "      <td>0.256532</td>\n",
              "      <td>0.255582</td>\n",
              "      <td>0.257478</td>\n",
              "      <td>0.240717</td>\n",
              "      <td>0.115814</td>\n",
              "      <td>0.091795</td>\n",
              "      <td>0.0</td>\n",
              "      <td>0.0</td>\n",
              "      <td>0.356115</td>\n",
              "    </tr>\n",
              "    <tr>\n",
              "      <th>min</th>\n",
              "      <td>1899.000000</td>\n",
              "      <td>1730.000000</td>\n",
              "      <td>0.000000</td>\n",
              "      <td>0.000000</td>\n",
              "      <td>0.000000</td>\n",
              "      <td>0.000000</td>\n",
              "      <td>0.000000</td>\n",
              "      <td>0.000000</td>\n",
              "      <td>0.000000</td>\n",
              "      <td>0.000000</td>\n",
              "      <td>0.000000</td>\n",
              "      <td>0.000000</td>\n",
              "      <td>0.000000</td>\n",
              "      <td>0.000000</td>\n",
              "      <td>0.000000</td>\n",
              "      <td>0.000000</td>\n",
              "      <td>0.000000</td>\n",
              "      <td>0.000000</td>\n",
              "      <td>0.000000</td>\n",
              "      <td>0.000000</td>\n",
              "      <td>0.000000</td>\n",
              "      <td>0.000000</td>\n",
              "      <td>3.0</td>\n",
              "      <td>11.0</td>\n",
              "      <td>0.000000</td>\n",
              "    </tr>\n",
              "    <tr>\n",
              "      <th>20%</th>\n",
              "      <td>1957.000000</td>\n",
              "      <td>31761.000000</td>\n",
              "      <td>0.000000</td>\n",
              "      <td>0.000000</td>\n",
              "      <td>19.000000</td>\n",
              "      <td>15.000000</td>\n",
              "      <td>1.000000</td>\n",
              "      <td>11.000000</td>\n",
              "      <td>2.000000</td>\n",
              "      <td>1.000000</td>\n",
              "      <td>6.000000</td>\n",
              "      <td>1.000000</td>\n",
              "      <td>2.000000</td>\n",
              "      <td>0.000000</td>\n",
              "      <td>3.000000</td>\n",
              "      <td>3.000000</td>\n",
              "      <td>0.000000</td>\n",
              "      <td>0.000000</td>\n",
              "      <td>0.000000</td>\n",
              "      <td>0.000000</td>\n",
              "      <td>0.000000</td>\n",
              "      <td>0.000000</td>\n",
              "      <td>3.0</td>\n",
              "      <td>11.0</td>\n",
              "      <td>0.000000</td>\n",
              "    </tr>\n",
              "    <tr>\n",
              "      <th>40%</th>\n",
              "      <td>1967.000000</td>\n",
              "      <td>44159.000000</td>\n",
              "      <td>0.000000</td>\n",
              "      <td>0.000000</td>\n",
              "      <td>38.000000</td>\n",
              "      <td>79.000000</td>\n",
              "      <td>4.000000</td>\n",
              "      <td>34.000000</td>\n",
              "      <td>7.000000</td>\n",
              "      <td>5.000000</td>\n",
              "      <td>16.000000</td>\n",
              "      <td>1.000000</td>\n",
              "      <td>3.000000</td>\n",
              "      <td>1.000000</td>\n",
              "      <td>4.000000</td>\n",
              "      <td>5.000000</td>\n",
              "      <td>0.000000</td>\n",
              "      <td>0.000000</td>\n",
              "      <td>0.000000</td>\n",
              "      <td>0.000000</td>\n",
              "      <td>0.000000</td>\n",
              "      <td>0.000000</td>\n",
              "      <td>3.0</td>\n",
              "      <td>11.0</td>\n",
              "      <td>0.000000</td>\n",
              "    </tr>\n",
              "    <tr>\n",
              "      <th>50%</th>\n",
              "      <td>1970.000000</td>\n",
              "      <td>51038.000000</td>\n",
              "      <td>0.000000</td>\n",
              "      <td>0.000000</td>\n",
              "      <td>49.000000</td>\n",
              "      <td>171.000000</td>\n",
              "      <td>8.000000</td>\n",
              "      <td>67.000000</td>\n",
              "      <td>12.000000</td>\n",
              "      <td>8.000000</td>\n",
              "      <td>24.000000</td>\n",
              "      <td>2.000000</td>\n",
              "      <td>3.000000</td>\n",
              "      <td>2.000000</td>\n",
              "      <td>5.000000</td>\n",
              "      <td>6.000000</td>\n",
              "      <td>0.000000</td>\n",
              "      <td>0.000000</td>\n",
              "      <td>0.000000</td>\n",
              "      <td>0.000000</td>\n",
              "      <td>0.000000</td>\n",
              "      <td>0.000000</td>\n",
              "      <td>3.0</td>\n",
              "      <td>11.0</td>\n",
              "      <td>0.000000</td>\n",
              "    </tr>\n",
              "    <tr>\n",
              "      <th>60%</th>\n",
              "      <td>1973.000000</td>\n",
              "      <td>57957.000000</td>\n",
              "      <td>1.000000</td>\n",
              "      <td>1.000000</td>\n",
              "      <td>58.000000</td>\n",
              "      <td>277.000000</td>\n",
              "      <td>14.000000</td>\n",
              "      <td>108.000000</td>\n",
              "      <td>20.000000</td>\n",
              "      <td>14.000000</td>\n",
              "      <td>34.000000</td>\n",
              "      <td>2.000000</td>\n",
              "      <td>4.000000</td>\n",
              "      <td>2.000000</td>\n",
              "      <td>6.000000</td>\n",
              "      <td>6.000000</td>\n",
              "      <td>0.000000</td>\n",
              "      <td>0.000000</td>\n",
              "      <td>0.000000</td>\n",
              "      <td>0.000000</td>\n",
              "      <td>0.000000</td>\n",
              "      <td>0.000000</td>\n",
              "      <td>3.0</td>\n",
              "      <td>11.0</td>\n",
              "      <td>0.000000</td>\n",
              "    </tr>\n",
              "    <tr>\n",
              "      <th>80%</th>\n",
              "      <td>1979.000000</td>\n",
              "      <td>71391.000000</td>\n",
              "      <td>1.000000</td>\n",
              "      <td>1.000000</td>\n",
              "      <td>79.000000</td>\n",
              "      <td>577.000000</td>\n",
              "      <td>43.000000</td>\n",
              "      <td>292.000000</td>\n",
              "      <td>65.000000</td>\n",
              "      <td>44.000000</td>\n",
              "      <td>72.000000</td>\n",
              "      <td>3.000000</td>\n",
              "      <td>6.000000</td>\n",
              "      <td>5.000000</td>\n",
              "      <td>9.000000</td>\n",
              "      <td>7.000000</td>\n",
              "      <td>0.000000</td>\n",
              "      <td>0.000000</td>\n",
              "      <td>0.000000</td>\n",
              "      <td>0.000000</td>\n",
              "      <td>0.000000</td>\n",
              "      <td>0.000000</td>\n",
              "      <td>3.0</td>\n",
              "      <td>11.0</td>\n",
              "      <td>0.000000</td>\n",
              "    </tr>\n",
              "    <tr>\n",
              "      <th>max</th>\n",
              "      <td>1996.000000</td>\n",
              "      <td>162397.000000</td>\n",
              "      <td>2.000000</td>\n",
              "      <td>2.000000</td>\n",
              "      <td>99.000000</td>\n",
              "      <td>1493.000000</td>\n",
              "      <td>199.000000</td>\n",
              "      <td>1725.000000</td>\n",
              "      <td>259.000000</td>\n",
              "      <td>262.000000</td>\n",
              "      <td>321.000000</td>\n",
              "      <td>15.000000</td>\n",
              "      <td>27.000000</td>\n",
              "      <td>28.000000</td>\n",
              "      <td>13.000000</td>\n",
              "      <td>20.000000</td>\n",
              "      <td>1.000000</td>\n",
              "      <td>1.000000</td>\n",
              "      <td>1.000000</td>\n",
              "      <td>1.000000</td>\n",
              "      <td>1.000000</td>\n",
              "      <td>1.000000</td>\n",
              "      <td>3.0</td>\n",
              "      <td>11.0</td>\n",
              "      <td>1.000000</td>\n",
              "    </tr>\n",
              "  </tbody>\n",
              "</table>\n",
              "</div>"
            ],
            "text/plain": [
              "        Year_Birth         Income  ...  Z_Revenue     Response\n",
              "count  1766.000000    1766.000000  ...     1766.0  1766.000000\n",
              "mean   1968.855040   51610.984711  ...       11.0     0.148924\n",
              "std      11.848976   21773.344045  ...        0.0     0.356115\n",
              "min    1899.000000    1730.000000  ...       11.0     0.000000\n",
              "20%    1957.000000   31761.000000  ...       11.0     0.000000\n",
              "40%    1967.000000   44159.000000  ...       11.0     0.000000\n",
              "50%    1970.000000   51038.000000  ...       11.0     0.000000\n",
              "60%    1973.000000   57957.000000  ...       11.0     0.000000\n",
              "80%    1979.000000   71391.000000  ...       11.0     0.000000\n",
              "max    1996.000000  162397.000000  ...       11.0     1.000000\n",
              "\n",
              "[10 rows x 25 columns]"
            ]
          },
          "metadata": {
            "tags": []
          }
        }
      ]
    },
    {
      "cell_type": "code",
      "metadata": {
        "id": "U906CaJzu3pA"
      },
      "source": [
        "# remove useless columns -> Variance equal to zero"
      ],
      "execution_count": null,
      "outputs": []
    },
    {
      "cell_type": "code",
      "metadata": {
        "scrolled": false,
        "colab": {
          "base_uri": "https://localhost:8080/"
        },
        "id": "1o3b8_IDu3pB",
        "outputId": "2683e14e-0c28-4619-e821-aa3f8c9bf2fa"
      },
      "source": [
        "const=describe_num.columns[describe_num.loc[\"std\"]<0.01]\n",
        "print(\"Columns with zero or almost zero variance to be removed:\\n\", \n",
        "      list(const))\n",
        "\n",
        "# remove constants\n",
        "df.drop(labels=const, axis=1, inplace=True) \n",
        "\n",
        "# test\n",
        "\n",
        "df_test.drop(labels=const, axis=1, inplace=True)"
      ],
      "execution_count": null,
      "outputs": [
        {
          "output_type": "stream",
          "text": [
            "Columns with zero or almost zero variance to be removed:\n",
            " ['Z_CostContact', 'Z_Revenue']\n"
          ],
          "name": "stdout"
        }
      ]
    },
    {
      "cell_type": "markdown",
      "metadata": {
        "id": "VcrWxSPXu3pC"
      },
      "source": [
        "# Remove duplicates with different Response values"
      ]
    },
    {
      "cell_type": "code",
      "metadata": {
        "id": "M0sB9CP7u3pC"
      },
      "source": [
        "df_x = df.drop(columns='Response')\n",
        "df_y = df.Response"
      ],
      "execution_count": null,
      "outputs": []
    },
    {
      "cell_type": "code",
      "metadata": {
        "colab": {
          "base_uri": "https://localhost:8080/",
          "height": 256
        },
        "id": "KrSu9An8u3pC",
        "outputId": "d5935a82-beb6-4f01-91e3-e34af8368cfe"
      },
      "source": [
        "df_x[df_x.duplicated(keep=False)].sort_values(by='Income').head()"
      ],
      "execution_count": null,
      "outputs": [
        {
          "output_type": "execute_result",
          "data": {
            "text/html": [
              "<div>\n",
              "<style scoped>\n",
              "    .dataframe tbody tr th:only-of-type {\n",
              "        vertical-align: middle;\n",
              "    }\n",
              "\n",
              "    .dataframe tbody tr th {\n",
              "        vertical-align: top;\n",
              "    }\n",
              "\n",
              "    .dataframe thead th {\n",
              "        text-align: right;\n",
              "    }\n",
              "</style>\n",
              "<table border=\"1\" class=\"dataframe\">\n",
              "  <thead>\n",
              "    <tr style=\"text-align: right;\">\n",
              "      <th></th>\n",
              "      <th>Year_Birth</th>\n",
              "      <th>Education</th>\n",
              "      <th>Marital_Status</th>\n",
              "      <th>Income</th>\n",
              "      <th>Kidhome</th>\n",
              "      <th>Teenhome</th>\n",
              "      <th>Dt_Customer</th>\n",
              "      <th>Recency</th>\n",
              "      <th>MntWines</th>\n",
              "      <th>MntFruits</th>\n",
              "      <th>MntMeatProducts</th>\n",
              "      <th>MntFishProducts</th>\n",
              "      <th>MntSweetProducts</th>\n",
              "      <th>MntGoldProds</th>\n",
              "      <th>NumDealsPurchases</th>\n",
              "      <th>NumWebPurchases</th>\n",
              "      <th>NumCatalogPurchases</th>\n",
              "      <th>NumStorePurchases</th>\n",
              "      <th>NumWebVisitsMonth</th>\n",
              "      <th>AcceptedCmp3</th>\n",
              "      <th>AcceptedCmp4</th>\n",
              "      <th>AcceptedCmp5</th>\n",
              "      <th>AcceptedCmp1</th>\n",
              "      <th>AcceptedCmp2</th>\n",
              "      <th>Complain</th>\n",
              "    </tr>\n",
              "    <tr>\n",
              "      <th>ID</th>\n",
              "      <th></th>\n",
              "      <th></th>\n",
              "      <th></th>\n",
              "      <th></th>\n",
              "      <th></th>\n",
              "      <th></th>\n",
              "      <th></th>\n",
              "      <th></th>\n",
              "      <th></th>\n",
              "      <th></th>\n",
              "      <th></th>\n",
              "      <th></th>\n",
              "      <th></th>\n",
              "      <th></th>\n",
              "      <th></th>\n",
              "      <th></th>\n",
              "      <th></th>\n",
              "      <th></th>\n",
              "      <th></th>\n",
              "      <th></th>\n",
              "      <th></th>\n",
              "      <th></th>\n",
              "      <th></th>\n",
              "      <th></th>\n",
              "      <th></th>\n",
              "    </tr>\n",
              "  </thead>\n",
              "  <tbody>\n",
              "    <tr>\n",
              "      <th>10617</th>\n",
              "      <td>1989</td>\n",
              "      <td>Master</td>\n",
              "      <td>Divorced</td>\n",
              "      <td>10979.0</td>\n",
              "      <td>0</td>\n",
              "      <td>0</td>\n",
              "      <td>2014-05-22</td>\n",
              "      <td>34</td>\n",
              "      <td>8</td>\n",
              "      <td>4</td>\n",
              "      <td>10</td>\n",
              "      <td>2</td>\n",
              "      <td>2</td>\n",
              "      <td>4</td>\n",
              "      <td>2</td>\n",
              "      <td>3</td>\n",
              "      <td>0</td>\n",
              "      <td>3</td>\n",
              "      <td>5</td>\n",
              "      <td>0</td>\n",
              "      <td>0</td>\n",
              "      <td>0</td>\n",
              "      <td>0</td>\n",
              "      <td>0</td>\n",
              "      <td>0</td>\n",
              "    </tr>\n",
              "    <tr>\n",
              "      <th>6864</th>\n",
              "      <td>1989</td>\n",
              "      <td>Master</td>\n",
              "      <td>Divorced</td>\n",
              "      <td>10979.0</td>\n",
              "      <td>0</td>\n",
              "      <td>0</td>\n",
              "      <td>2014-05-22</td>\n",
              "      <td>34</td>\n",
              "      <td>8</td>\n",
              "      <td>4</td>\n",
              "      <td>10</td>\n",
              "      <td>2</td>\n",
              "      <td>2</td>\n",
              "      <td>4</td>\n",
              "      <td>2</td>\n",
              "      <td>3</td>\n",
              "      <td>0</td>\n",
              "      <td>3</td>\n",
              "      <td>5</td>\n",
              "      <td>0</td>\n",
              "      <td>0</td>\n",
              "      <td>0</td>\n",
              "      <td>0</td>\n",
              "      <td>0</td>\n",
              "      <td>0</td>\n",
              "    </tr>\n",
              "    <tr>\n",
              "      <th>234</th>\n",
              "      <td>1979</td>\n",
              "      <td>Graduation</td>\n",
              "      <td>Divorced</td>\n",
              "      <td>15287.0</td>\n",
              "      <td>1</td>\n",
              "      <td>0</td>\n",
              "      <td>2012-10-10</td>\n",
              "      <td>60</td>\n",
              "      <td>1</td>\n",
              "      <td>2</td>\n",
              "      <td>8</td>\n",
              "      <td>4</td>\n",
              "      <td>3</td>\n",
              "      <td>13</td>\n",
              "      <td>2</td>\n",
              "      <td>1</td>\n",
              "      <td>1</td>\n",
              "      <td>2</td>\n",
              "      <td>7</td>\n",
              "      <td>1</td>\n",
              "      <td>0</td>\n",
              "      <td>0</td>\n",
              "      <td>0</td>\n",
              "      <td>0</td>\n",
              "      <td>0</td>\n",
              "    </tr>\n",
              "    <tr>\n",
              "      <th>10264</th>\n",
              "      <td>1979</td>\n",
              "      <td>Graduation</td>\n",
              "      <td>Divorced</td>\n",
              "      <td>15287.0</td>\n",
              "      <td>1</td>\n",
              "      <td>0</td>\n",
              "      <td>2012-10-10</td>\n",
              "      <td>60</td>\n",
              "      <td>1</td>\n",
              "      <td>2</td>\n",
              "      <td>8</td>\n",
              "      <td>4</td>\n",
              "      <td>3</td>\n",
              "      <td>13</td>\n",
              "      <td>2</td>\n",
              "      <td>1</td>\n",
              "      <td>1</td>\n",
              "      <td>2</td>\n",
              "      <td>7</td>\n",
              "      <td>1</td>\n",
              "      <td>0</td>\n",
              "      <td>0</td>\n",
              "      <td>0</td>\n",
              "      <td>0</td>\n",
              "      <td>0</td>\n",
              "    </tr>\n",
              "    <tr>\n",
              "      <th>8420</th>\n",
              "      <td>1970</td>\n",
              "      <td>2n Cycle</td>\n",
              "      <td>Married</td>\n",
              "      <td>15315.0</td>\n",
              "      <td>0</td>\n",
              "      <td>0</td>\n",
              "      <td>2013-08-03</td>\n",
              "      <td>27</td>\n",
              "      <td>7</td>\n",
              "      <td>4</td>\n",
              "      <td>13</td>\n",
              "      <td>15</td>\n",
              "      <td>8</td>\n",
              "      <td>17</td>\n",
              "      <td>2</td>\n",
              "      <td>2</td>\n",
              "      <td>0</td>\n",
              "      <td>4</td>\n",
              "      <td>5</td>\n",
              "      <td>0</td>\n",
              "      <td>0</td>\n",
              "      <td>0</td>\n",
              "      <td>0</td>\n",
              "      <td>0</td>\n",
              "      <td>0</td>\n",
              "    </tr>\n",
              "  </tbody>\n",
              "</table>\n",
              "</div>"
            ],
            "text/plain": [
              "       Year_Birth   Education  ... AcceptedCmp2  Complain\n",
              "ID                             ...                       \n",
              "10617        1989      Master  ...            0         0\n",
              "6864         1989      Master  ...            0         0\n",
              "234          1979  Graduation  ...            0         0\n",
              "10264        1979  Graduation  ...            0         0\n",
              "8420         1970    2n Cycle  ...            0         0\n",
              "\n",
              "[5 rows x 25 columns]"
            ]
          },
          "metadata": {
            "tags": []
          },
          "execution_count": 26
        }
      ]
    },
    {
      "cell_type": "code",
      "metadata": {
        "colab": {
          "base_uri": "https://localhost:8080/"
        },
        "id": "yMARrChmu3pC",
        "outputId": "e4ba8217-2ad7-48d1-caab-7d598f483d5a"
      },
      "source": [
        "print('Duplicate observations with different target values:',len(df_x[df_x.duplicated(keep=False)])-len(df[df.duplicated(keep=False)]))"
      ],
      "execution_count": null,
      "outputs": [
        {
          "output_type": "stream",
          "text": [
            "Duplicate observations with different target values: 20\n"
          ],
          "name": "stdout"
        }
      ]
    },
    {
      "cell_type": "code",
      "metadata": {
        "id": "yAPOehTiu3pC"
      },
      "source": [
        "duplicates_no_target = list(df_x[df_x.duplicated(keep=False)].index)\n",
        "duplicates_target = list(df[df.duplicated(keep=False)].index.values)"
      ],
      "execution_count": null,
      "outputs": []
    },
    {
      "cell_type": "code",
      "metadata": {
        "colab": {
          "base_uri": "https://localhost:8080/"
        },
        "id": "8G3MuHWWu3pD",
        "outputId": "4da4a6bb-9205-4c3c-a87e-23b053a59bad"
      },
      "source": [
        "idx_remove = list(set(duplicates_no_target) - set(duplicates_target))\n",
        "len(idx_remove)"
      ],
      "execution_count": null,
      "outputs": [
        {
          "output_type": "execute_result",
          "data": {
            "text/plain": [
              "20"
            ]
          },
          "metadata": {
            "tags": []
          },
          "execution_count": 29
        }
      ]
    },
    {
      "cell_type": "code",
      "metadata": {
        "id": "TiEJ4qw7u3pD"
      },
      "source": [
        "df = df[~df.index.isin(idx_remove)]"
      ],
      "execution_count": null,
      "outputs": []
    },
    {
      "cell_type": "markdown",
      "metadata": {
        "id": "NwUwPD53u3pD"
      },
      "source": [
        "# Correlation"
      ]
    },
    {
      "cell_type": "code",
      "metadata": {
        "id": "1DjVMSjzu3pD"
      },
      "source": [
        "target = \"Response\"\n",
        "df[target]=df[target].astype('object')\n",
        "feature_list = df.select_dtypes(include=[\"int64\", \"Float64\"]).columns.values\n",
        "feature_list = [x for x in feature_list if not x.startswith((\"Year_B\",\"AcceptedCmp\"))]\n",
        "feature_list.append(target)"
      ],
      "execution_count": null,
      "outputs": []
    },
    {
      "cell_type": "code",
      "metadata": {
        "scrolled": false,
        "colab": {
          "base_uri": "https://localhost:8080/",
          "height": 645
        },
        "id": "X_XodI4du3pD",
        "outputId": "e204033b-0c24-460c-efd3-6c27bf75f784"
      },
      "source": [
        "cmap = sns.diverging_palette(20, 220, sep = 20, as_cmap=True)\n",
        "\n",
        "\n",
        "corr = df[feature_list].corr()\n",
        "\n",
        "mask = np.zeros_like(corr)\n",
        "mask[np.triu_indices_from(mask)] = True\n",
        "with sns.axes_style(\"white\"):\n",
        "    plt.figure(figsize = (15,10))\n",
        "    sns.heatmap(corr, \n",
        "            xticklabels=corr.columns.values,\n",
        "            yticklabels=corr.columns.values,\n",
        "            linewidths=0, annot= True,mask=mask,square=False, cmap = cmap)\n",
        "plt.title(\"Correlations\", loc = \"left\", fontweight = \"bold\")\n",
        "plt.show()"
      ],
      "execution_count": null,
      "outputs": [
        {
          "output_type": "display_data",
          "data": {
            "image/png": "[encoded data removed]",
            "text/plain": [
              "<Figure size 1080x720 with 2 Axes>"
            ]
          },
          "metadata": {
            "tags": []
          }
        }
      ]
    },
    {
      "cell_type": "code",
      "metadata": {
        "id": "BR3ZCUM3u3pE"
      },
      "source": [
        "df.to_excel(\"df_01.xlsx\")\n",
        "df_test.to_excel('df_test_01.xlsx')"
      ],
      "execution_count": null,
      "outputs": []
    },
    {
      "cell_type": "code",
      "metadata": {
        "id": "G5RAYN6iyrqn"
      },
      "source": [
        "models= [LogisticRegression(random_state = seed, n_jobs = n_jobs),\n",
        "         MultinomialNB(),\n",
        "         BernoulliNB(),\n",
        "         GaussianNB(),\n",
        "         PassiveAggressiveClassifier(random_state=seed, n_jobs = n_jobs), # parece ser bom\n",
        "         NuSVC(random_state=seed, gamma='scale'), # bom\n",
        "         LabelPropagation(n_jobs = n_jobs, alpha = 0, kernel='knn'),\n",
        "         LabelSpreading(n_jobs = n_jobs, kernel = 'knn'),\n",
        "         RandomForestClassifier(random_state = seed,n_jobs = n_jobs),\n",
        "         SGDClassifier(random_state = seed,n_jobs = n_jobs),\n",
        "         DecisionTreeClassifier(random_state = seed),\n",
        "         XGBClassifier(random_state = seed,n_jobs = n_jobs),\n",
        "         GradientBoostingClassifier(random_state = seed),\n",
        "         RidgeClassifier(random_state = seed),\n",
        "         SVC(random_state = seed,kernel='linear'),\n",
        "         KNeighborsClassifier(n_jobs = n_jobs),\n",
        "         NearestCentroid(),\n",
        "         QuadraticDiscriminantAnalysis(),\n",
        "         LinearDiscriminantAnalysis()]\n"
      ],
      "execution_count": null,
      "outputs": []
    },
    {
      "cell_type": "code",
      "metadata": {
        "id": "ZuUiWBdmyrqn"
      },
      "source": [
        "from sklearn.ensemble import BaggingClassifier\n",
        "#compare_models = pd.DataFrame({'acc':0})\n",
        "acc_simple = []\n",
        "rec_simple = []\n",
        "simple_names=[]\n",
        "\n",
        "acc_bag = []\n",
        "rec_bag = []\n",
        "bag_names = []\n",
        "\n",
        "for model in tqdm(models):\n",
        "    \n",
        "    model_name = model.__class__.__name__\n",
        "    model.fit(x_train, y_train)\n",
        "    predictions = model.predict(x_test)\n",
        "    #print(\"Original Results of: \", (model_name), '\\n')\n",
        "    #print(classification_report(y_test,predictions))\n",
        "    \n",
        "    acc_simple.append(np.round(accuracy_score(predictions, y_test),3))\n",
        "    rec_simple.append(np.round(recall_score( y_test, predictions),3))\n",
        "    simple_names.append(model_name)\n",
        "    \n",
        "    bagging_clf = BaggingClassifier(model, random_state=seed)\n",
        "    \n",
        "    bagging_clf.fit(x_train, y_train)\n",
        "    predictions = bagging_clf.predict(x_test)\n",
        "    \n",
        "    \n",
        "    \n",
        "    #print(\"Bagged Results of: \", (model_name), '\\n')\n",
        "    #print(classification_report(y_test,predictions))\n",
        "    \n",
        "    acc_bag.append(np.round(accuracy_score(predictions, y_test),3))\n",
        "    rec_bag.append(np.round(recall_score( y_test, predictions),3))\n",
        "    bag_names.append('bag_'+model_name)\n"
      ],
      "execution_count": null,
      "outputs": []
    },
    {
      "cell_type": "code",
      "metadata": {
        "id": "AuA0fNgryrqn"
      },
      "source": [
        "simple_compare = pd.DataFrame({'acc':acc_simple, 'rec': rec_simple}, index=simple_names)\n",
        "bag_compare = pd.DataFrame({'acc':acc_bag, 'rec':rec_bag}, index=bag_names)\n",
        "compare_models = pd.concat([simple_compare, bag_compare])\n",
        "\n",
        "print(compare_models.sort_values(by='acc',ascending=False)[:5])\n",
        "print(compare_models.sort_values(by='rec',ascending=False)[:5])\n"
      ],
      "execution_count": null,
      "outputs": []
    },
    {
      "cell_type": "code",
      "metadata": {
        "id": "L23fjEOzyrqn"
      },
      "source": [
        "bagging_clf = BaggingClassifier(RandomForestClassifier(), random_state=seed)\n",
        "bagging_clf.fit(x_train, y_train)\n",
        "predictions = bagging_clf.predict(x_test)\n",
        "predict_metrics(y_test, predictions)\n"
      ],
      "execution_count": null,
      "outputs": []
    },
    {
      "cell_type": "code",
      "metadata": {
        "id": "661PwXzAyrqn"
      },
      "source": [
        "clf = bagging_clf\n",
        "get_profit(clf, x_test)"
      ],
      "execution_count": null,
      "outputs": []
    },
    {
      "cell_type": "code",
      "metadata": {
        "id": "w3ClxuQcyrqo"
      },
      "source": [
        "\n",
        "\n",
        "names = []\n",
        "for model in models:\n",
        "    model_name = model.__class__.__name__\n",
        "    names.append(model_name)\n",
        "model_simple_tuple_list = list(zip(names,models))"
      ],
      "execution_count": null,
      "outputs": []
    },
    {
      "cell_type": "code",
      "metadata": {
        "id": "usP3rFE_yrqo"
      },
      "source": [
        "from sklearn.ensemble import VotingClassifier\n",
        "\n",
        "bag_models = []\n",
        "bag_names = []\n",
        "for model in models:\n",
        "    model_ = BaggingClassifier(model, random_state=seed)\n",
        "    model_name = 'bag_'+model.__class__.__name__\n",
        "    bag_models.append(model_)\n",
        "    bag_names.append(model_name)\n",
        "    \n",
        "model_bagged_tuple_list = list(zip(bag_names,bag_models))"
      ],
      "execution_count": null,
      "outputs": []
    },
    {
      "cell_type": "code",
      "metadata": {
        "id": "OGdjGfZqyrqo"
      },
      "source": [
        "model_tuple_list = model_simple_tuple_list + model_bagged_tuple_list"
      ],
      "execution_count": null,
      "outputs": []
    },
    {
      "cell_type": "code",
      "metadata": {
        "id": "fbu7cqUpyrqo"
      },
      "source": [
        "ensemble = VotingClassifier(estimators=model_tuple_list, voting='hard')"
      ],
      "execution_count": null,
      "outputs": []
    },
    {
      "cell_type": "code",
      "metadata": {
        "id": "oc9PO5jeyrqo"
      },
      "source": [
        "#fit model to training data\n",
        "ensemble.fit(x_train, y_train)\n",
        "#test our model on the test data\n",
        "ensemble.score(x_test, y_test)\n"
      ],
      "execution_count": null,
      "outputs": []
    },
    {
      "cell_type": "code",
      "metadata": {
        "id": "eWIkYb7iyrqo"
      },
      "source": [
        "predictions = ensemble.predict(x_test)\n",
        "predict_metrics(y_test, predictions)"
      ],
      "execution_count": null,
      "outputs": []
    },
    {
      "cell_type": "code",
      "metadata": {
        "id": "vb7R8GqW4kYT"
      },
      "source": [
        "n_splits = 5\n",
        "CV = StratifiedKFold(n_splits=n_splits, random_state=seed)\n",
        "cv_df = pd.DataFrame(index=range(n_splits * len(models)))\n",
        "scoring = ['accuracy','precision','recall','f1','profit', 'profit_norm']\n",
        "\n",
        "vote_df_grid = pd.DataFrame()\n",
        "\n",
        "\n",
        "for score in scoring:\n",
        "    \n",
        "    v_claf = EnsembleVoteClassifier(clfs=list(grid_search_dict.values()), voting='soft', verbose=1)\n",
        "    pipeline = make_pipeline(smote_, v_claf)\n",
        "    \n",
        "    if score != 'profit' and score != 'profit_norm':\n",
        "        entries = []\n",
        "        model_name = v_claf.__class__.__name__\n",
        "        accuracies = cross_val_score(pipeline, x, y, scoring= score, cv=CV)\n",
        "        for fold_idx, accuracy in enumerate(accuracies):\n",
        "            entries.append((model_name, fold_idx, accuracy))\n",
        "        cv_df = pd.DataFrame(entries, columns=['model_name', 'fold_idx', score])\n",
        "        vote_df_grid[score] = cv_df.groupby('model_name')[score].agg('mean')\n",
        "    \n",
        "    else:\n",
        "        profits = []\n",
        "        profits_norm = []\n",
        "        revenue_answer, expense_answer = 11, 3\n",
        "\n",
        "        revenues = []\n",
        "        revenues_norm = []\n",
        "\n",
        "        for fold_train, fold_valid in CV.split(x,y):\n",
        "            pipeline.fit(x.iloc[fold_train],y.iloc[fold_train])\n",
        "            y_prob = v_claf.predict_proba(x.iloc[fold_valid])[:,1]\n",
        "            t = 0.5\n",
        "            y_pred = [0 if v < t else 1 for v in y_prob]\n",
        "            cm = confusion_matrix(y.iloc[fold_valid], y_pred)\n",
        "            revenue = cm[1][1] * revenue_answer\n",
        "            expenses = cm[:, 1].sum() * expense_answer\n",
        "            net_revenue = revenue - expenses\n",
        "            r_real = np.sum(y.iloc[fold_valid].values)*8\n",
        "\n",
        "            revenues.append(net_revenue)\n",
        "            revenues_norm.append(net_revenue/r_real)\n",
        "        profits.append(np.average(revenues))\n",
        "        profits_norm.append(np.average(revenues_norm))\n",
        "        if score =='profit':\n",
        "            vote_df[score] = profits\n",
        "        else:\n",
        "            vote_df[score] = profits_norm"
      ],
      "execution_count": null,
      "outputs": []
    },
    {
      "cell_type": "code",
      "metadata": {
        "id": "QkK4-v78yrqQ",
        "outputId": "0cee8a56-a1dd-4843-b5c4-415b1c2eaf2b"
      },
      "source": [
        "vote_df_grid"
      ],
      "execution_count": null,
      "outputs": [
        {
          "output_type": "execute_result",
          "data": {
            "text/html": [
              "<div>\n",
              "<style scoped>\n",
              "    .dataframe tbody tr th:only-of-type {\n",
              "        vertical-align: middle;\n",
              "    }\n",
              "\n",
              "    .dataframe tbody tr th {\n",
              "        vertical-align: top;\n",
              "    }\n",
              "\n",
              "    .dataframe thead th {\n",
              "        text-align: right;\n",
              "    }\n",
              "</style>\n",
              "<table border=\"1\" class=\"dataframe\">\n",
              "  <thead>\n",
              "    <tr style=\"text-align: right;\">\n",
              "      <th></th>\n",
              "      <th>accuracy</th>\n",
              "      <th>precision</th>\n",
              "      <th>recall</th>\n",
              "      <th>f1</th>\n",
              "      <th>profit</th>\n",
              "      <th>profit_norm</th>\n",
              "    </tr>\n",
              "    <tr>\n",
              "      <th>model_name</th>\n",
              "      <th></th>\n",
              "      <th></th>\n",
              "      <th></th>\n",
              "      <th></th>\n",
              "      <th></th>\n",
              "      <th></th>\n",
              "    </tr>\n",
              "  </thead>\n",
              "  <tbody>\n",
              "    <tr>\n",
              "      <th>EnsembleVoteClassifier</th>\n",
              "      <td>0.879322</td>\n",
              "      <td>0.571755</td>\n",
              "      <td>0.802866</td>\n",
              "      <td>0.665068</td>\n",
              "      <td>236.4</td>\n",
              "      <td>0.57286</td>\n",
              "    </tr>\n",
              "  </tbody>\n",
              "</table>\n",
              "</div>"
            ],
            "text/plain": [
              "                        accuracy  precision    recall        f1  profit  \\\n",
              "model_name                                                                \n",
              "EnsembleVoteClassifier  0.879322   0.571755  0.802866  0.665068   236.4   \n",
              "\n",
              "                        profit_norm  \n",
              "model_name                           \n",
              "EnsembleVoteClassifier      0.57286  "
            ]
          },
          "metadata": {
            "tags": []
          },
          "execution_count": 78
        }
      ]
    }
  ]
}